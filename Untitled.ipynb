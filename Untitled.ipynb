{
 "cells": [
  {
   "cell_type": "code",
   "execution_count": 180,
   "id": "00ed2fed",
   "metadata": {},
   "outputs": [],
   "source": [
    "import os\n",
    "import argparse\n",
    "import numpy as np\n",
    "from scipy import spatial\n",
    "import torch \n",
    "from utils import *\n",
    "\n",
    "from torch.utils.data import DataLoader\n",
    "\n",
    "from Code.unsupervised_methods.som_dagmm.model import DAGMM, SOM_DAGMM\n",
    "from Code.unsupervised_methods.som_dagmm.compression_network import CompressionNetwork\n",
    "from Code.unsupervised_methods.som_dagmm.estimation_network import EstimationNetwork\n",
    "from Code.unsupervised_methods.som_dagmm.gmm import GMM, Mixture\n",
    "\n",
    "from Code.unsupervised_methods.rsrae.rsrae import RSRAE\n",
    "\n",
    "from Code.datasets.car_insurance import Car_insurance\n",
    "from Code.datasets.vehicle_claims import Vehicle_Claims\n",
    "from Code.datasets.vehicle_insurance import Vehicle_Insurance"
   ]
  },
  {
   "cell_type": "code",
   "execution_count": 181,
   "id": "01f6f7c1",
   "metadata": {},
   "outputs": [],
   "source": [
    "path = 'data/car_insurance/test_OH.csv'\n",
    "label_file = \"test_OH_Y.csv\""
   ]
  },
  {
   "cell_type": "code",
   "execution_count": 182,
   "id": "38a642a6",
   "metadata": {},
   "outputs": [],
   "source": [
    "dataset = Car_insurance(embedding_layer = False, encoding = \"label_encode\", path = path, label_file=label_file)"
   ]
  },
  {
   "cell_type": "code",
   "execution_count": 183,
   "id": "a94de16d",
   "metadata": {},
   "outputs": [],
   "source": [
    "input_dim = dataset.input_dim\n",
    "output_dim = dataset.output_dim"
   ]
  },
  {
   "cell_type": "code",
   "execution_count": 184,
   "id": "a54afa48",
   "metadata": {},
   "outputs": [],
   "source": [
    "save_path = \"model/car_insurance_rsrae_OH_4_2\""
   ]
  },
  {
   "cell_type": "code",
   "execution_count": 185,
   "id": "14f763c1",
   "metadata": {},
   "outputs": [],
   "source": [
    "dataloader = DataLoader(dataset, batch_size=1)"
   ]
  },
  {
   "cell_type": "code",
   "execution_count": 186,
   "id": "ad80718d",
   "metadata": {},
   "outputs": [
    {
     "data": {
      "text/plain": [
       "RSRAE(\n",
       "  (encoder): Sequential(\n",
       "    (0): Linear(in_features=169, out_features=32, bias=True)\n",
       "    (1): LeakyReLU(negative_slope=0.01)\n",
       "    (2): Linear(in_features=32, out_features=64, bias=True)\n",
       "    (3): LeakyReLU(negative_slope=0.01)\n",
       "    (4): Linear(in_features=64, out_features=4, bias=True)\n",
       "  )\n",
       "  (rsr): RSRLayer()\n",
       "  (decoder): Sequential(\n",
       "    (0): Linear(in_features=2, out_features=4, bias=True)\n",
       "    (1): LeakyReLU(negative_slope=0.01)\n",
       "    (2): Linear(in_features=4, out_features=64, bias=True)\n",
       "    (3): LeakyReLU(negative_slope=0.01)\n",
       "    (4): Linear(in_features=64, out_features=32, bias=True)\n",
       "    (5): LeakyReLU(negative_slope=0.01)\n",
       "    (6): Linear(in_features=32, out_features=169, bias=True)\n",
       "  )\n",
       ")"
      ]
     },
     "execution_count": 186,
     "metadata": {},
     "output_type": "execute_result"
    }
   ],
   "source": [
    "net = RSRAE(False, False, input_dim, output_dim, None, 2,4)\n",
    "net.load_state_dict(torch.load(save_path))\n",
    "net.eval()\n",
    "    "
   ]
  },
  {
   "cell_type": "code",
   "execution_count": 294,
   "id": "d1d535ac",
   "metadata": {},
   "outputs": [],
   "source": [
    "score = []\n",
    "label = []\n",
    "cosine = []\n",
    "encoder = np.empty((0,4))\n",
    "lat = np.empty((0,2))\n",
    "for i, data in enumerate(dataloader):\n",
    "    enc, dec, latent, A = net(data[0], data[1])\n",
    "    rec_data = torch.cat([data[0], data[1]], -1)\n",
    "    out = relative_euclidean_distance(rec_data, dec)\n",
    "    rec_data = rec_data.detach().numpy()\n",
    "    dec = dec.detach().numpy()\n",
    "    enc = enc.detach().numpy()\n",
    "    latent = latent.detach().numpy()\n",
    "    cosine_distance = spatial.distance.cosine(rec_data, dec)\n",
    "    out = out.detach().numpy().reshape(-1)\n",
    "    L =  data[2].detach().numpy().reshape(-1)\n",
    "    score = np.hstack((score, out))   \n",
    "    label = np.hstack((label, L)) \n",
    "    cosine = np.hstack((cosine, cosine_distance))\n",
    "    encoder = np.append(encoder, enc, axis=0)\n",
    "    lat = np.append(lat, latent, axis=0)"
   ]
  },
  {
   "cell_type": "code",
   "execution_count": 200,
   "id": "c3d99e2e",
   "metadata": {},
   "outputs": [],
   "source": [
    "threshold = np.percentile(score, 70, axis=0)\n",
    "y_pred = (score > threshold).astype(int)\n",
    "y_test = label  "
   ]
  },
  {
   "cell_type": "code",
   "execution_count": 201,
   "id": "95d85619",
   "metadata": {},
   "outputs": [],
   "source": [
    "p, r ,f, a = get_scores(y_pred, y_test)"
   ]
  },
  {
   "cell_type": "code",
   "execution_count": 202,
   "id": "1ffdb3bf",
   "metadata": {},
   "outputs": [],
   "source": [
    "tn, fp, fn, tp = get_confusion_matrix(y_pred, y_test)"
   ]
  },
  {
   "cell_type": "code",
   "execution_count": 203,
   "id": "68512d9b",
   "metadata": {},
   "outputs": [
    {
     "data": {
      "text/plain": [
       "(0.7523809523809524, 0.62, 0.6267578659370725, 0.5340909090909092)"
      ]
     },
     "execution_count": 203,
     "metadata": {},
     "output_type": "execute_result"
    }
   ],
   "source": [
    "p, r, f, a"
   ]
  },
  {
   "cell_type": "code",
   "execution_count": 204,
   "id": "fd63cc80",
   "metadata": {},
   "outputs": [
    {
     "data": {
      "text/plain": [
       "(158, 52, 62, 28)"
      ]
     },
     "execution_count": 204,
     "metadata": {},
     "output_type": "execute_result"
    }
   ],
   "source": [
    "tn, fp, fn, tp"
   ]
  },
  {
   "cell_type": "code",
   "execution_count": 205,
   "id": "e423db37",
   "metadata": {},
   "outputs": [
    {
     "data": {
      "text/plain": [
       "0.9545231878757476"
      ]
     },
     "execution_count": 205,
     "metadata": {},
     "output_type": "execute_result"
    }
   ],
   "source": [
    "threshold"
   ]
  },
  {
   "cell_type": "code",
   "execution_count": 206,
   "id": "f057029a",
   "metadata": {},
   "outputs": [],
   "source": [
    "import matplotlib.pyplot as plt"
   ]
  },
  {
   "cell_type": "code",
   "execution_count": 207,
   "id": "055d547a",
   "metadata": {},
   "outputs": [
    {
     "data": {
      "text/plain": [
       "(array([0.23618232, 0.47236464, 0.        , 1.65327626, 2.36182322,\n",
       "        2.1256409 , 1.88945858, 2.59800555, 2.36182322, 1.88945858,\n",
       "        2.59800555, 2.83418787, 3.54273484, 3.77891716, 4.72364645,\n",
       "        4.48746413, 5.19601109, 5.66837574, 5.19601109, 1.65327626,\n",
       "        3.54273484, 1.65327626, 1.65327626, 0.94472929, 1.65327626,\n",
       "        1.65327626, 0.47236464, 0.47236464, 0.23618232, 0.47236464,\n",
       "        0.94472929, 0.47236464, 0.        , 0.23618232, 0.        ,\n",
       "        0.23618232, 0.47236464, 0.        , 0.23618232, 0.23618232]),\n",
       " array([0.69869637, 0.71280977, 0.72692316, 0.74103655, 0.75514994,\n",
       "        0.76926333, 0.78337672, 0.79749011, 0.8116035 , 0.82571689,\n",
       "        0.83983028, 0.85394367, 0.86805706, 0.88217045, 0.89628384,\n",
       "        0.91039723, 0.92451062, 0.93862401, 0.9527374 , 0.96685079,\n",
       "        0.98096418, 0.99507757, 1.00919096, 1.02330436, 1.03741775,\n",
       "        1.05153114, 1.06564453, 1.07975792, 1.09387131, 1.1079847 ,\n",
       "        1.12209809, 1.13621148, 1.15032487, 1.16443826, 1.17855165,\n",
       "        1.19266504, 1.20677843, 1.22089182, 1.23500521, 1.2491186 ,\n",
       "        1.26323199]),\n",
       " <BarContainer object of 40 artists>)"
      ]
     },
     "execution_count": 207,
     "metadata": {},
     "output_type": "execute_result"
    },
    {
     "data": {
      "image/png": "[encoded data removed]",
      "text/plain": [
       "<Figure size 432x288 with 1 Axes>"
      ]
     },
     "metadata": {
      "needs_background": "light"
     },
     "output_type": "display_data"
    }
   ],
   "source": [
    "plt.hist(score, density=True, bins=40)"
   ]
  },
  {
   "cell_type": "code",
   "execution_count": 208,
   "id": "6243f720",
   "metadata": {},
   "outputs": [
    {
     "data": {
      "text/plain": [
       "array([0.34381908, 0.84246819, 0.43559611, 0.36368221, 0.44930506,\n",
       "       0.69565091, 0.63512084, 0.7370491 , 0.63401216, 0.32666582,\n",
       "       0.36256522, 0.48193616, 0.39564377, 0.61438593, 0.62280622,\n",
       "       0.39093918, 0.80373056, 0.51232857, 0.39708871, 0.51020268,\n",
       "       0.5678972 , 0.32990444, 0.82254776, 0.32554412, 0.4538728 ,\n",
       "       0.35183835, 0.49829352, 0.54080179, 0.74901304, 0.55480832,\n",
       "       0.29740417, 0.59197867, 0.62441552, 0.83302934, 0.51876867,\n",
       "       0.68224582, 0.66536149, 0.34958088, 0.57107863, 0.82693695,\n",
       "       0.6441704 , 0.52103701, 0.59174743, 0.69802794, 0.59515199,\n",
       "       0.80898206, 0.4175784 , 0.54540363, 0.37661493, 0.39523315,\n",
       "       0.63523239, 0.92499782, 0.5437136 , 0.49007356, 0.41416472,\n",
       "       0.68575287, 0.47700685, 0.67790997, 0.74659064, 0.44345874,\n",
       "       0.59949219, 0.36771154, 0.67221275, 0.55042091, 0.49676323,\n",
       "       0.42682403, 0.90690685, 0.59640828, 0.76800352, 0.65297174,\n",
       "       0.50761616, 0.58092111, 0.58000883, 0.82233946, 0.60283303,\n",
       "       0.48169827, 0.48526227, 0.56819203, 0.53508389, 0.53465009,\n",
       "       0.60763934, 0.46185344, 0.92703198, 1.26075181, 0.55599201,\n",
       "       0.28405559, 0.49899089, 0.46411031, 0.60080659, 0.48978984,\n",
       "       0.48792475, 0.65561876, 0.99540539, 0.91084176, 0.52421236,\n",
       "       0.63413677, 0.38585782, 0.45860219, 0.50753376, 0.69606334,\n",
       "       0.53924397, 1.00960121, 0.76366371, 0.82347414, 0.35935557,\n",
       "       0.69955331, 0.76635315, 0.4985823 , 0.39903009, 0.64775845,\n",
       "       0.5040575 , 0.55438501, 0.54051325, 0.54129839, 0.60857275,\n",
       "       0.64764187, 0.68009168, 0.38605899, 0.45934147, 0.64969295,\n",
       "       0.29792202, 0.65418833, 0.56568703, 0.48077285, 0.55598921,\n",
       "       0.79608591, 0.63980624, 0.64938191, 0.6314213 , 0.63130185,\n",
       "       0.7080912 , 0.83636306, 0.38288409, 0.44909728, 0.43851465,\n",
       "       0.53411567, 0.64452282, 0.72185093, 0.5587236 , 0.55786082,\n",
       "       0.59841675, 0.50912532, 0.39596838, 0.36664337, 0.40582561,\n",
       "       0.51262903, 0.55748859, 0.42825431, 0.40494567, 0.65297621,\n",
       "       0.66155201, 0.5868533 , 0.64759836, 0.69153503, 0.92921279,\n",
       "       0.49030995, 0.85474671, 0.55396739, 0.71021253, 0.6014441 ,\n",
       "       0.63620767, 0.49816048, 0.65307865, 0.55119053, 0.77139549,\n",
       "       0.56630978, 0.3459928 , 0.58646727, 0.58992434, 0.65667471,\n",
       "       0.58887804, 0.70000902, 0.79744428, 0.60634375, 0.69302464,\n",
       "       0.97328679, 0.57688057, 0.67166561, 0.56743979, 0.34321809,\n",
       "       0.53836226, 0.56952715, 0.61881316, 0.54935685, 0.77839164,\n",
       "       0.6668393 , 0.62425995, 0.42329895, 0.39526093, 0.39143699,\n",
       "       0.57057503, 0.46951419, 0.43639177, 0.35706145, 0.68660799,\n",
       "       0.73591176, 0.34018821, 0.60806766, 0.64966252, 0.36954898,\n",
       "       0.42256451, 0.45425236, 0.37427336, 0.3750276 , 0.76270063,\n",
       "       0.36263424, 0.68386886, 0.59951448, 0.53586823, 0.52399078,\n",
       "       0.58347595, 0.52065963, 0.33217549, 0.51907188, 0.49189001,\n",
       "       0.52632254, 0.74306035, 0.50223756, 0.46072382, 0.56180856,\n",
       "       0.60814938, 0.71396419, 0.64354032, 0.49494529, 0.33767712,\n",
       "       0.83365507, 0.76618136, 0.57206795, 0.66913998, 0.63497767,\n",
       "       0.64762789, 0.39472747, 0.43644679, 0.54687527, 0.522167  ,\n",
       "       0.61243913, 0.66417307, 0.41499823, 0.72128847, 0.3639608 ,\n",
       "       0.74693722, 1.10057792, 0.44747239, 0.53967896, 0.55647922,\n",
       "       0.63133958, 0.53411931, 0.55115521, 0.66047072, 0.75118802,\n",
       "       0.35596639, 0.77696431, 0.70456675, 0.34816569, 0.32488161,\n",
       "       0.58637413, 0.33672148, 0.38046038, 0.41977507, 0.51218668,\n",
       "       0.57346565, 0.48755729, 0.70068669, 0.56655636, 0.674418  ,\n",
       "       0.62421101, 0.62678349, 0.62103677, 0.67711595, 0.52034718,\n",
       "       0.34479237, 0.47518241, 0.59493735, 0.59666482, 0.68701383,\n",
       "       0.76074049, 0.3401649 , 0.42020607, 0.34871632, 0.35556859,\n",
       "       0.36761993, 0.55971327, 0.6708985 , 0.65716866, 0.39782804,\n",
       "       0.62100166, 0.71923667, 0.57229865, 0.79087429, 0.49566418,\n",
       "       0.62861061, 0.3644858 , 0.66766915, 0.69353771, 0.3272683 ,\n",
       "       0.61004317, 0.73251384, 0.53856093, 0.67344436, 0.69635165])"
      ]
     },
     "execution_count": 208,
     "metadata": {},
     "output_type": "execute_result"
    }
   ],
   "source": [
    "cosine"
   ]
  },
  {
   "cell_type": "code",
   "execution_count": 209,
   "id": "9eb5219e",
   "metadata": {},
   "outputs": [
    {
     "data": {
      "text/plain": [
       "(array([0.40954392, 0.81908784, 2.0477196 , 1.91120496, 2.0477196 ,\n",
       "        1.22863176, 1.3651464 , 1.09211712, 2.45726352, 2.32074888,\n",
       "        2.59377816, 3.27635136, 2.59377816, 2.18423424, 3.00332208,\n",
       "        2.59377816, 2.0477196 , 1.3651464 , 0.81908784, 1.22863176,\n",
       "        0.54605856, 0.40954392, 1.09211712, 0.13651464, 0.        ,\n",
       "        0.27302928, 0.40954392, 0.        , 0.13651464, 0.27302928,\n",
       "        0.        , 0.        , 0.        , 0.13651464, 0.        ,\n",
       "        0.        , 0.        , 0.        , 0.        , 0.13651464]),\n",
       " array([0.28405559, 0.308473  , 0.3328904 , 0.35730781, 0.38172521,\n",
       "        0.40614262, 0.43056002, 0.45497743, 0.47939484, 0.50381224,\n",
       "        0.52822965, 0.55264705, 0.57706446, 0.60148186, 0.62589927,\n",
       "        0.65031667, 0.67473408, 0.69915149, 0.72356889, 0.7479863 ,\n",
       "        0.7724037 , 0.79682111, 0.82123851, 0.84565592, 0.87007332,\n",
       "        0.89449073, 0.91890814, 0.94332554, 0.96774295, 0.99216035,\n",
       "        1.01657776, 1.04099516, 1.06541257, 1.08982997, 1.11424738,\n",
       "        1.13866479, 1.16308219, 1.1874996 , 1.211917  , 1.23633441,\n",
       "        1.26075181]),\n",
       " <BarContainer object of 40 artists>)"
      ]
     },
     "execution_count": 209,
     "metadata": {},
     "output_type": "execute_result"
    },
    {
     "data": {
      "image/png": "[encoded data removed]",
      "text/plain": [
       "<Figure size 432x288 with 1 Axes>"
      ]
     },
     "metadata": {
      "needs_background": "light"
     },
     "output_type": "display_data"
    }
   ],
   "source": [
    "plt.hist(cosine, density=True, bins=40)"
   ]
  },
  {
   "cell_type": "code",
   "execution_count": 213,
   "id": "c754ed3b",
   "metadata": {},
   "outputs": [],
   "source": [
    "cosine_threshold = np.percentile(cosine, 70, axis=0)\n",
    "y_pred = (cosine > cosine_threshold).astype(int)\n",
    "y_test = label "
   ]
  },
  {
   "cell_type": "code",
   "execution_count": 214,
   "id": "60165098",
   "metadata": {},
   "outputs": [],
   "source": [
    "cp, cr ,cf, ca = get_scores(y_pred, y_test)\n",
    "ctn, cfp, cfn, ctp = get_confusion_matrix(y_pred, y_test)"
   ]
  },
  {
   "cell_type": "code",
   "execution_count": 215,
   "id": "eb5e1e06",
   "metadata": {},
   "outputs": [
    {
     "data": {
      "text/plain": [
       "(0.7523809523809524, 0.62, 0.6267578659370725, 0.5340909090909092)"
      ]
     },
     "execution_count": 215,
     "metadata": {},
     "output_type": "execute_result"
    }
   ],
   "source": [
    "cp, cr ,cf, ca"
   ]
  },
  {
   "cell_type": "code",
   "execution_count": 216,
   "id": "08ec02fd",
   "metadata": {},
   "outputs": [
    {
     "data": {
      "text/plain": [
       "(158, 52, 62, 28)"
      ]
     },
     "execution_count": 216,
     "metadata": {},
     "output_type": "execute_result"
    }
   ],
   "source": [
    "ctn, cfp, cfn, ctp"
   ]
  },
  {
   "cell_type": "code",
   "execution_count": 217,
   "id": "410858da",
   "metadata": {},
   "outputs": [],
   "source": [
    "new_dist = cosine + score"
   ]
  },
  {
   "cell_type": "code",
   "execution_count": 218,
   "id": "6d0cd975",
   "metadata": {},
   "outputs": [
    {
     "data": {
      "text/plain": [
       "(300,)"
      ]
     },
     "execution_count": 218,
     "metadata": {},
     "output_type": "execute_result"
    }
   ],
   "source": [
    "new_dist.shape"
   ]
  },
  {
   "cell_type": "code",
   "execution_count": 219,
   "id": "7ff2c4a6",
   "metadata": {},
   "outputs": [],
   "source": [
    "new_dist_prod = cosine*score"
   ]
  },
  {
   "cell_type": "code",
   "execution_count": 271,
   "id": "fb97aa24",
   "metadata": {},
   "outputs": [],
   "source": [
    "sub_dist = score - cosine"
   ]
  },
  {
   "cell_type": "code",
   "execution_count": 221,
   "id": "fe01970c",
   "metadata": {},
   "outputs": [],
   "source": [
    "x = [i for i in score]\n",
    "y = [i for i in cosine]"
   ]
  },
  {
   "cell_type": "code",
   "execution_count": 272,
   "id": "a1b3fade",
   "metadata": {},
   "outputs": [],
   "source": [
    "import pandas as pd\n",
    "d = {'score': x, 'cosine': y, 'sum': new_dist, 'product':new_dist_prod, \"difference\": sub_dist}\n",
    "df = pd.DataFrame(d, columns = ['score', 'cosine', 'sum', 'product', 'difference'])"
   ]
  },
  {
   "cell_type": "code",
   "execution_count": 273,
   "id": "6144d471",
   "metadata": {},
   "outputs": [
    {
     "data": {
      "text/html": [
       "<div>\n",
       "<style scoped>\n",
       "    .dataframe tbody tr th:only-of-type {\n",
       "        vertical-align: middle;\n",
       "    }\n",
       "\n",
       "    .dataframe tbody tr th {\n",
       "        vertical-align: top;\n",
       "    }\n",
       "\n",
       "    .dataframe thead th {\n",
       "        text-align: right;\n",
       "    }\n",
       "</style>\n",
       "<table border=\"1\" class=\"dataframe\">\n",
       "  <thead>\n",
       "    <tr style=\"text-align: right;\">\n",
       "      <th></th>\n",
       "      <th>score</th>\n",
       "      <th>cosine</th>\n",
       "      <th>sum</th>\n",
       "      <th>product</th>\n",
       "      <th>difference</th>\n",
       "    </tr>\n",
       "  </thead>\n",
       "  <tbody>\n",
       "    <tr>\n",
       "      <th>0</th>\n",
       "      <td>0.765042</td>\n",
       "      <td>0.343819</td>\n",
       "      <td>1.108862</td>\n",
       "      <td>0.263036</td>\n",
       "      <td>0.421223</td>\n",
       "    </tr>\n",
       "    <tr>\n",
       "      <th>1</th>\n",
       "      <td>1.086775</td>\n",
       "      <td>0.842468</td>\n",
       "      <td>1.929243</td>\n",
       "      <td>0.915573</td>\n",
       "      <td>0.244307</td>\n",
       "    </tr>\n",
       "    <tr>\n",
       "      <th>2</th>\n",
       "      <td>0.825614</td>\n",
       "      <td>0.435596</td>\n",
       "      <td>1.261210</td>\n",
       "      <td>0.359634</td>\n",
       "      <td>0.390018</td>\n",
       "    </tr>\n",
       "    <tr>\n",
       "      <th>3</th>\n",
       "      <td>0.782429</td>\n",
       "      <td>0.363682</td>\n",
       "      <td>1.146112</td>\n",
       "      <td>0.284556</td>\n",
       "      <td>0.418747</td>\n",
       "    </tr>\n",
       "    <tr>\n",
       "      <th>4</th>\n",
       "      <td>0.884741</td>\n",
       "      <td>0.449305</td>\n",
       "      <td>1.334046</td>\n",
       "      <td>0.397519</td>\n",
       "      <td>0.435436</td>\n",
       "    </tr>\n",
       "    <tr>\n",
       "      <th>...</th>\n",
       "      <td>...</td>\n",
       "      <td>...</td>\n",
       "      <td>...</td>\n",
       "      <td>...</td>\n",
       "      <td>...</td>\n",
       "    </tr>\n",
       "    <tr>\n",
       "      <th>295</th>\n",
       "      <td>0.928060</td>\n",
       "      <td>0.610043</td>\n",
       "      <td>1.538103</td>\n",
       "      <td>0.566157</td>\n",
       "      <td>0.318017</td>\n",
       "    </tr>\n",
       "    <tr>\n",
       "      <th>296</th>\n",
       "      <td>1.006714</td>\n",
       "      <td>0.732514</td>\n",
       "      <td>1.739228</td>\n",
       "      <td>0.737432</td>\n",
       "      <td>0.274200</td>\n",
       "    </tr>\n",
       "    <tr>\n",
       "      <th>297</th>\n",
       "      <td>0.887338</td>\n",
       "      <td>0.538561</td>\n",
       "      <td>1.425899</td>\n",
       "      <td>0.477886</td>\n",
       "      <td>0.348777</td>\n",
       "    </tr>\n",
       "    <tr>\n",
       "      <th>298</th>\n",
       "      <td>0.957458</td>\n",
       "      <td>0.673444</td>\n",
       "      <td>1.630902</td>\n",
       "      <td>0.644794</td>\n",
       "      <td>0.284013</td>\n",
       "    </tr>\n",
       "    <tr>\n",
       "      <th>299</th>\n",
       "      <td>1.048303</td>\n",
       "      <td>0.696352</td>\n",
       "      <td>1.744654</td>\n",
       "      <td>0.729987</td>\n",
       "      <td>0.351951</td>\n",
       "    </tr>\n",
       "  </tbody>\n",
       "</table>\n",
       "<p>300 rows × 5 columns</p>\n",
       "</div>"
      ],
      "text/plain": [
       "        score    cosine       sum   product  difference\n",
       "0    0.765042  0.343819  1.108862  0.263036    0.421223\n",
       "1    1.086775  0.842468  1.929243  0.915573    0.244307\n",
       "2    0.825614  0.435596  1.261210  0.359634    0.390018\n",
       "3    0.782429  0.363682  1.146112  0.284556    0.418747\n",
       "4    0.884741  0.449305  1.334046  0.397519    0.435436\n",
       "..        ...       ...       ...       ...         ...\n",
       "295  0.928060  0.610043  1.538103  0.566157    0.318017\n",
       "296  1.006714  0.732514  1.739228  0.737432    0.274200\n",
       "297  0.887338  0.538561  1.425899  0.477886    0.348777\n",
       "298  0.957458  0.673444  1.630902  0.644794    0.284013\n",
       "299  1.048303  0.696352  1.744654  0.729987    0.351951\n",
       "\n",
       "[300 rows x 5 columns]"
      ]
     },
     "execution_count": 273,
     "metadata": {},
     "output_type": "execute_result"
    }
   ],
   "source": [
    "df"
   ]
  },
  {
   "cell_type": "code",
   "execution_count": 224,
   "id": "9a40f6ae",
   "metadata": {},
   "outputs": [],
   "source": [
    "from sklearn.cluster import KMeans"
   ]
  },
  {
   "cell_type": "code",
   "execution_count": 243,
   "id": "0521da16",
   "metadata": {},
   "outputs": [],
   "source": [
    "kmeans = KMeans(n_clusters=2, random_state=0).fit(df)"
   ]
  },
  {
   "cell_type": "code",
   "execution_count": 244,
   "id": "45181fae",
   "metadata": {},
   "outputs": [],
   "source": [
    "kmeans_pred = kmeans.labels_"
   ]
  },
  {
   "cell_type": "code",
   "execution_count": 245,
   "id": "fbd3bdc1",
   "metadata": {},
   "outputs": [],
   "source": [
    "kp, kr ,kf, ka = get_scores(kmeans_pred, y_test)\n",
    "ktn, kfp, kfn, ktp = get_confusion_matrix(kmeans_pred, y_test)"
   ]
  },
  {
   "cell_type": "code",
   "execution_count": 246,
   "id": "b03b8149",
   "metadata": {},
   "outputs": [
    {
     "data": {
      "text/plain": [
       "(0.7132867132867133, 0.47, 0.49988492520138095, 0.47556818181818183)"
      ]
     },
     "execution_count": 246,
     "metadata": {},
     "output_type": "execute_result"
    }
   ],
   "source": [
    "kp, kr ,kf, ka"
   ]
  },
  {
   "cell_type": "code",
   "execution_count": 247,
   "id": "a23fbbea",
   "metadata": {},
   "outputs": [
    {
     "data": {
      "text/plain": [
       "(102, 41, 118, 39)"
      ]
     },
     "execution_count": 247,
     "metadata": {},
     "output_type": "execute_result"
    }
   ],
   "source": [
    "ktn, kfp, kfn, ktp"
   ]
  },
  {
   "cell_type": "code",
   "execution_count": 248,
   "id": "2898b300",
   "metadata": {},
   "outputs": [
    {
     "data": {
      "text/plain": [
       "array([1, 0, 1, 1, 1, 0, 0, 0, 0, 1, 1, 1, 1, 0, 0, 1, 0, 1, 1, 1, 1, 1,\n",
       "       0, 1, 1, 1, 1, 1, 0, 1, 1, 0, 0, 0, 1, 0, 0, 1, 1, 0, 0, 1, 0, 0,\n",
       "       0, 0, 1, 1, 1, 1, 0, 0, 1, 1, 1, 0, 1, 0, 0, 1, 0, 1, 0, 1, 1, 1,\n",
       "       0, 0, 0, 0, 1, 0, 1, 0, 0, 1, 1, 1, 1, 1, 0, 1, 0, 0, 1, 1, 1, 1,\n",
       "       0, 1, 1, 0, 0, 0, 1, 0, 1, 1, 1, 0, 1, 0, 0, 0, 1, 0, 0, 1, 1, 0,\n",
       "       1, 1, 1, 1, 0, 0, 0, 1, 1, 0, 1, 0, 1, 1, 1, 0, 0, 0, 0, 0, 0, 0,\n",
       "       1, 1, 1, 1, 0, 0, 1, 0, 0, 1, 1, 1, 1, 1, 1, 1, 1, 0, 0, 0, 0, 0,\n",
       "       0, 1, 0, 1, 0, 0, 0, 1, 0, 1, 0, 0, 1, 0, 0, 0, 0, 0, 0, 0, 0, 0,\n",
       "       1, 0, 1, 1, 1, 1, 0, 1, 0, 0, 0, 1, 1, 1, 1, 1, 1, 1, 0, 0, 1, 0,\n",
       "       0, 1, 1, 1, 1, 1, 0, 1, 0, 0, 1, 1, 1, 1, 1, 1, 1, 1, 0, 1, 1, 1,\n",
       "       0, 0, 0, 1, 1, 0, 0, 1, 0, 0, 0, 1, 1, 1, 1, 0, 0, 1, 0, 1, 0, 0,\n",
       "       1, 1, 1, 0, 1, 1, 0, 0, 1, 0, 0, 1, 1, 0, 1, 1, 1, 1, 0, 1, 0, 1,\n",
       "       0, 0, 0, 0, 0, 1, 1, 1, 0, 0, 0, 0, 1, 1, 1, 1, 1, 1, 0, 0, 1, 0,\n",
       "       0, 1, 0, 1, 0, 1, 0, 0, 1, 0, 0, 1, 0, 0])"
      ]
     },
     "execution_count": 248,
     "metadata": {},
     "output_type": "execute_result"
    }
   ],
   "source": [
    "kmeans_pred"
   ]
  },
  {
   "cell_type": "code",
   "execution_count": 279,
   "id": "1bc80ee5",
   "metadata": {},
   "outputs": [
    {
     "data": {
      "image/png": "[encoded data removed]",
      "text/plain": [
       "<Figure size 432x288 with 1 Axes>"
      ]
     },
     "metadata": {
      "needs_background": "light"
     },
     "output_type": "display_data"
    }
   ],
   "source": [
    "import numpy as np\n",
    "from matplotlib import pyplot as plt\n",
    "\n",
    "cdict = {1: 'red', 0: 'blue'}\n",
    "x = df[\"score\"]\n",
    "y = df[\"cosine\"]\n",
    "fig, ax = plt.subplots()\n",
    "for g in np.unique(y_test):\n",
    "    ix = np.where(y_test == g)\n",
    "    ax.scatter(x[ix[0]], y[ix[0]], c = cdict[g], label = g, s = 50)\n",
    "ax.legend()\n",
    "plt.show()"
   ]
  },
  {
   "cell_type": "code",
   "execution_count": 280,
   "id": "74925d62",
   "metadata": {},
   "outputs": [],
   "source": [
    "from scipy.stats import norm\n",
    "\n",
    "mu, std = norm.fit(score)"
   ]
  },
  {
   "cell_type": "code",
   "execution_count": 282,
   "id": "682932d7",
   "metadata": {},
   "outputs": [
    {
     "data": {
      "text/plain": [
       "(0.9169027364253998, 0.09880648812834346)"
      ]
     },
     "execution_count": 282,
     "metadata": {},
     "output_type": "execute_result"
    }
   ],
   "source": [
    "mu, std"
   ]
  },
  {
   "cell_type": "code",
   "execution_count": 293,
   "id": "2c092eef",
   "metadata": {},
   "outputs": [
    {
     "data": {
      "text/plain": [
       "(300, 4)"
      ]
     },
     "execution_count": 293,
     "metadata": {},
     "output_type": "execute_result"
    }
   ],
   "source": [
    "encoder.shape"
   ]
  },
  {
   "cell_type": "code",
   "execution_count": 295,
   "id": "7339886c",
   "metadata": {},
   "outputs": [
    {
     "data": {
      "text/plain": [
       "(300, 2)"
      ]
     },
     "execution_count": 295,
     "metadata": {},
     "output_type": "execute_result"
    }
   ],
   "source": [
    "lat.shape"
   ]
  },
  {
   "cell_type": "code",
   "execution_count": 300,
   "id": "985dad5c",
   "metadata": {},
   "outputs": [],
   "source": [
    "from sklearn.decomposition import PCA"
   ]
  },
  {
   "cell_type": "code",
   "execution_count": 301,
   "id": "e7672644",
   "metadata": {},
   "outputs": [],
   "source": [
    "pca = PCA(2)"
   ]
  },
  {
   "cell_type": "code",
   "execution_count": 304,
   "id": "e9262031",
   "metadata": {},
   "outputs": [],
   "source": [
    "pca_encoder = pca.fit_transform(encoder)"
   ]
  },
  {
   "cell_type": "code",
   "execution_count": 308,
   "id": "675dc141",
   "metadata": {},
   "outputs": [
    {
     "data": {
      "text/plain": [
       "array([-0.13965978,  0.03542564, -0.06472606, -0.29492826,  0.25657767,\n",
       "       -0.09572083, -0.00091689,  0.02615003,  0.00929846,  0.17594976,\n",
       "        0.33731729, -0.29670885,  0.14320695,  0.03243388, -0.04118003,\n",
       "        0.27202474,  0.10100495,  0.1161869 , -0.22721426, -0.07770108,\n",
       "       -0.05326655,  0.34787609, -0.06055029,  0.34408146,  0.24692047,\n",
       "       -0.2187129 , -0.02079956, -0.00247611,  0.0133041 ,  0.08803707,\n",
       "        0.16373851, -0.24056971,  0.12387951, -0.13638376, -0.16060734,\n",
       "       -0.06037036, -0.22024102,  0.16900569,  0.05153575, -0.04478797,\n",
       "       -0.08833733,  0.06633148,  0.01295164, -0.04368362, -0.10511672,\n",
       "       -0.00706302,  0.10786985, -0.05044423,  0.25281889,  0.22277614,\n",
       "        0.11955371, -0.20637258,  0.02062266, -0.12248202, -0.42232201,\n",
       "       -0.09060463,  0.06129203, -0.16444025,  0.18446447,  0.13448441,\n",
       "       -0.144699  ,  0.30745333, -0.06340669,  0.43201702, -0.05480146,\n",
       "        0.26240102, -0.09221997, -0.05526108, -0.04877457,  0.02510863,\n",
       "       -0.14877027, -0.04659267, -0.18149601,  0.22959911, -0.04520908,\n",
       "        0.10198351, -0.14564616,  0.01719673, -0.0656817 , -0.1408485 ,\n",
       "        0.24369508, -0.08034444,  0.00488432,  0.05062141,  0.12490394,\n",
       "        0.24494156, -0.04715775, -0.18426225, -0.15432203, -0.2950677 ,\n",
       "        0.12022949,  0.01116269, -0.07770623, -0.08834415,  0.10193914,\n",
       "        0.04304327, -0.1598035 ,  0.23323559, -0.18390213, -0.14229032,\n",
       "        0.03905353,  0.06243979,  0.00793483, -0.07182614,  0.2682069 ,\n",
       "        0.01217827, -0.04155372,  0.29155611,  0.29337346, -0.0665616 ,\n",
       "       -0.11712614, -0.10139875, -0.09382933,  0.01510921, -0.17563259,\n",
       "        0.03383648, -0.08753199, -0.09124817, -0.21568349,  0.06933638,\n",
       "        0.21931582, -0.05784659,  0.06783203,  0.27342034, -0.02166701,\n",
       "       -0.04338843, -0.1786481 ,  0.03213015, -0.00162639,  0.08664888,\n",
       "       -0.06099878,  0.10301064,  0.23900294, -0.16480526, -0.04158453,\n",
       "       -0.02503067, -0.19024457, -0.14216707, -0.16675371,  0.2351148 ,\n",
       "       -0.02357649, -0.2878523 ,  0.28925875,  0.24211794,  0.21837256,\n",
       "       -0.28555872, -0.16171295,  0.3300995 , -0.13685182, -0.07017625,\n",
       "        0.08552287, -0.08853886, -0.1056737 , -0.14513868, -0.17751315,\n",
       "       -0.22481147, -0.10521248, -0.03849091, -0.03697866, -0.15012907,\n",
       "        0.03350769, -0.08380268, -0.03506002, -0.11194125, -0.12644828,\n",
       "        0.03719172,  0.21152046, -0.02136332, -0.06477975, -0.10444009,\n",
       "       -0.00719169, -0.35697925, -0.06537724,  0.11667719, -0.09733962,\n",
       "        0.00221344, -0.11529077, -0.13688378,  0.06097117,  0.22380437,\n",
       "       -0.07986491, -0.12800564,  0.00081587, -0.03786103, -0.05644741,\n",
       "        0.03479133, -0.10739941,  0.27626962,  0.20069042, -0.2118362 ,\n",
       "       -0.00167139, -0.09058351,  0.24813292,  0.22034801, -0.01325974,\n",
       "       -0.03766925,  0.43768521, -0.10202515, -0.08683969,  0.27600659,\n",
       "       -0.09373083, -0.08783703,  0.34221446,  0.14494494, -0.09230579,\n",
       "        0.25874953,  0.01491654, -0.13100023, -0.13678018, -0.10461299,\n",
       "       -0.03915597,  0.34363667,  0.20347965, -0.11968195, -0.14541127,\n",
       "       -0.11968115, -0.10074445, -0.06584711, -0.25123096, -0.19907711,\n",
       "        0.08380228,  0.09118577, -0.30024036, -0.14616659,  0.25850646,\n",
       "        0.01466359, -0.05766388, -0.04863694, -0.01502958, -0.10738171,\n",
       "       -0.02017156,  0.20472758, -0.10357307, -0.12460096, -0.0665996 ,\n",
       "       -0.12492671,  0.16375358,  0.24406891, -0.17634626,  0.19344075,\n",
       "       -0.13085538, -0.04909197, -0.2838964 ,  0.10503982, -0.10887857,\n",
       "       -0.09728249, -0.18045199, -0.13338296, -0.01337713, -0.06738191,\n",
       "        0.21826058, -0.05088607,  0.20055265,  0.20374723,  0.16723775,\n",
       "       -0.03904339,  0.15756696,  0.20378698,  0.36464893, -0.21580001,\n",
       "        0.0545145 , -0.06604266, -0.00888677, -0.05760916, -0.07956107,\n",
       "       -0.24030062,  0.00199537, -0.02635859,  0.05997426,  0.04868903,\n",
       "        0.28343417, -0.22003821, -0.04077106, -0.01682465, -0.05806789,\n",
       "       -0.03148015,  0.16090277,  0.19023343,  0.29004053,  0.28293733,\n",
       "       -0.12916988,  0.065946  ,  0.12574208, -0.25360051,  0.2593321 ,\n",
       "       -0.08146687,  0.01770233, -0.07139425, -0.10798892,  0.33959258,\n",
       "       -0.07188053, -0.21666587,  0.06783375, -0.02507912,  0.16746846,\n",
       "       -0.09299418, -0.18990574, -0.09647342,  0.02255148,  0.10319188])"
      ]
     },
     "execution_count": 308,
     "metadata": {},
     "output_type": "execute_result"
    }
   ],
   "source": [
    "pca_encoder[:,0]"
   ]
  },
  {
   "cell_type": "code",
   "execution_count": 309,
   "id": "7c937ff2",
   "metadata": {},
   "outputs": [
    {
     "data": {
      "image/png": "[encoded data removed]",
      "text/plain": [
       "<Figure size 432x288 with 1 Axes>"
      ]
     },
     "metadata": {
      "needs_background": "light"
     },
     "output_type": "display_data"
    }
   ],
   "source": [
    "cdict = {1: 'red', 0: 'blue'}\n",
    "x = pca_encoder[:,0]\n",
    "y = pca_encoder[:,1]\n",
    "fig, ax = plt.subplots()\n",
    "for g in np.unique(y_test):\n",
    "    ix = np.where(y_test == g)\n",
    "    ax.scatter(x[ix[0]], y[ix[0]], c = cdict[g], label = g, s = 50)\n",
    "ax.legend()\n",
    "plt.show()"
   ]
  },
  {
   "cell_type": "code",
   "execution_count": 310,
   "id": "d1d7bd22",
   "metadata": {},
   "outputs": [
    {
     "data": {
      "image/png": "[encoded data removed]",
      "text/plain": [
       "<Figure size 432x288 with 1 Axes>"
      ]
     },
     "metadata": {
      "needs_background": "light"
     },
     "output_type": "display_data"
    }
   ],
   "source": [
    "cdict = {1: 'red', 0: 'blue'}\n",
    "x = lat[:,0]\n",
    "y = lat[:,1]\n",
    "fig, ax = plt.subplots()\n",
    "for g in np.unique(y_test):\n",
    "    ix = np.where(y_test == g)\n",
    "    ax.scatter(x[ix[0]], y[ix[0]], c = cdict[g], label = g, s = 50)\n",
    "ax.legend()\n",
    "plt.show()"
   ]
  },
  {
   "cell_type": "code",
   "execution_count": null,
   "id": "c41c5783",
   "metadata": {},
   "outputs": [],
   "source": []
  }
 ],
 "metadata": {
  "kernelspec": {
   "display_name": "Python 3 (ipykernel)",
   "language": "python",
   "name": "python3"
  },
  "language_info": {
   "codemirror_mode": {
    "name": "ipython",
    "version": 3
   },
   "file_extension": ".py",
   "mimetype": "text/x-python",
   "name": "python",
   "nbconvert_exporter": "python",
   "pygments_lexer": "ipython3",
   "version": "3.8.12"
  }
 },
 "nbformat": 4,
 "nbformat_minor": 5
}
