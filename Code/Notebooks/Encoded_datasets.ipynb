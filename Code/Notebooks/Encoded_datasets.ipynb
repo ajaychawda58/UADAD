{
 "cells": [
  {
   "cell_type": "code",
   "execution_count": 2,
   "id": "ae9485a3",
   "metadata": {},
   "outputs": [],
   "source": [
    "import numpy as np\n",
    "import pandas as pd\n",
    "from utils import *\n",
    "import os\n",
    "from sklearn.model_selection import train_test_split"
   ]
  },
  {
   "cell_type": "code",
   "execution_count": 24,
   "id": "a10a6d51",
   "metadata": {},
   "outputs": [],
   "source": [
    "vehicle_claims = load_data('../../data/vehicle_claims/vehicle_claims_labeled.csv')\n",
    "vehicle_insurance = load_data('../../data/vehicle_insurance/fraud_oracle.csv')\n",
    "car_insurance = load_data('../../data/car_insurance/insurance_claims.csv')\n",
    "insurance_claims = load_data('../../data/insurance_claim_kaggle/ic_claims.csv')"
   ]
  },
  {
   "cell_type": "code",
   "execution_count": 20,
   "id": "4880d960",
   "metadata": {},
   "outputs": [],
   "source": [
    "label_vc = get_labels(vehicle_claims, \"vehicle_claims\")\n",
    "label_vi = get_labels(vehicle_insurance, \"vehicle_insurance\")\n",
    "label_ci = get_labels(car_insurance, \"car_insurance\")\n",
    "label_ic = insurance_claims['target']"
   ]
  },
  {
   "cell_type": "code",
   "execution_count": 21,
   "id": "df58d500",
   "metadata": {},
   "outputs": [],
   "source": [
    "vc_categorical_cols = ['Maker', 'Reg_year', ' Genmodel', 'Color', 'Bodytype', 'Engin_size', 'Gearbox', 'Fuel_type',\n",
    "                        'Seat_num', 'Door_num', 'issue', 'issue_id', 'repair_complexity']\n",
    "vi_categorical_cols = ['Make', 'AccidentArea',\t'Sex',\t'MaritalStatus',\t'Fault', 'PolicyType',\n",
    "                    \t'VehicleCategory',\t'Deductible',\t'Days_Policy_Accident',\t'Days_Policy_Claim',\n",
    "            \t        'AgeOfVehicle',  'AgeOfPolicyHolder', 'PoliceReportFiled',\t'WitnessPresent',\n",
    "                \t   'AgentType',\t'NumberOfSuppliments',\t'AddressChange_Claim', 'VehiclePrice',\n",
    "                       'PastNumberOfClaims', 'NumberOfCars', 'BasePolicy', 'Month', 'MonthClaimed',\n",
    "                       'DayOfWeek', 'DayOfWeekClaimed']\n",
    "\n",
    "ci_categorical_cols = ['policy_state', 'umbrella_limit', 'insured_sex', 'insured_education_level',\n",
    "    \t'insured_occupation', 'insured_hobbies', 'insured_relationship', 'incident_type',\n",
    "        'collision_type', 'incident_severity', 'authorities_contacted', 'incident_state', 'incident_city',\t\n",
    "        'property_damage', 'police_report_available', 'auto_make', 'auto_model']\n",
    "ic_categorical_cols = ['ps_ind_02_cat','ps_ind_04_cat', 'ps_ind_05_cat', 'ps_car_01_cat', 'ps_car_02_cat',\n",
    "       'ps_car_03_cat', 'ps_car_04_cat', 'ps_car_05_cat', 'ps_car_06_cat',\n",
    "       'ps_car_07_cat', 'ps_car_08_cat', 'ps_car_09_cat', 'ps_car_10_cat',\n",
    "       'ps_car_11_cat']"
   ]
  },
  {
   "cell_type": "code",
   "execution_count": 22,
   "id": "cd9c1f5d",
   "metadata": {},
   "outputs": [],
   "source": [
    "vc_cols_to_remove = [' Genmodel_ID', 'Adv_year', 'Adv_month', 'Adv_day', 'breakdown_date', 'repair_date', 'category_anomaly']\n",
    "ci_cols_to_remove = ['policy_number', 'policy_bind_date', 'policy_csl', 'incident_location', 'incident_date', '_c39']\n",
    "ic_cols_to_remove = ['id', 'target']"
   ]
  },
  {
   "cell_type": "code",
   "execution_count": 16,
   "id": "1eabf581",
   "metadata": {},
   "outputs": [],
   "source": [
    "car_insurance = remove_cols(car_insurance, ci_cols_to_remove)\n",
    "vehicle_claims = remove_cols(vehicle_claims, vc_cols_to_remove)\n",
    "insurance_claims = remove_cols(insurance_claims, ic_cols_to_remove)"
   ]
  },
  {
   "cell_type": "code",
   "execution_count": 8,
   "id": "5255a2bd",
   "metadata": {},
   "outputs": [],
   "source": [
    "def save_train_test_data(data, labels, path, cat_cols):\n",
    "    train, test, Y_train, Y_test = train_test_split(data, labels, test_size=0.3, random_state=42)\n",
    "    train.to_csv(os.path.join(path, \"train.csv\"), index=False)\n",
    "    test.to_csv(os.path.join(path, \"test.csv\"), index=False)\n",
    "    Y_train.to_csv(os.path.join(path, \"train_Y.csv\"), index=False)\n",
    "    Y_test.to_csv(os.path.join(path, \"test_Y.csv\"), index=False)\n",
    "    data_label = label_encoding(data, cat_cols)\n",
    "    train, test, Y_train, Y_test = train_test_split(data_label, labels, test_size=0.3, random_state=42)\n",
    "    train.to_csv(os.path.join(path, \"train_label.csv\"), index=False)\n",
    "    test.to_csv(os.path.join(path, \"test_label.csv\"), index=False)\n",
    "    Y_train.to_csv(os.path.join(path, \"train_label_Y.csv\"), index=False)\n",
    "    Y_test.to_csv(os.path.join(path, \"test_label_Y.csv\"), index=False)"
   ]
  },
  {
   "cell_type": "code",
   "execution_count": 9,
   "id": "3fb221f8",
   "metadata": {},
   "outputs": [],
   "source": [
    "def save_train_test_data_OH(data, labels, path, cat_cols):\n",
    "    data_OH = one_hot_encoding(data, cat_cols)\n",
    "    train, test, Y_train, Y_test = train_test_split(data_OH, labels, test_size=0.3, random_state=42)\n",
    "    train.to_csv(os.path.join(path, \"train_OH.csv\"), index=False)\n",
    "    test.to_csv(os.path.join(path, \"test_OH.csv\"), index=False)\n",
    "    Y_train.to_csv(os.path.join(path, \"train_OH_Y.csv\"), index=False)\n",
    "    Y_test.to_csv(os.path.join(path, \"test_OH_Y.csv\"), index=False)"
   ]
  },
  {
   "cell_type": "code",
   "execution_count": 10,
   "id": "ec7976bf",
   "metadata": {},
   "outputs": [],
   "source": [
    "def save_train_test_data_gel(data, labels, path, cat_cols):\n",
    "    data_gel = gel_encoding(data, cat_cols)\n",
    "    train, test, Y_train, Y_test = train_test_split(data_gel, labels, test_size=0.3, random_state=42)\n",
    "    train.to_csv(os.path.join(path, \"train_gel.csv\"), index=False)\n",
    "    test.to_csv(os.path.join(path, \"test_gel.csv\"), index=False)\n",
    "    Y_train.to_csv(os.path.join(path, \"train_gel_Y.csv\"), index=False)\n",
    "    Y_test.to_csv(os.path.join(path, \"test_gel_Y.csv\"), index=False)"
   ]
  },
  {
   "cell_type": "code",
   "execution_count": 99,
   "id": "e3a141bb",
   "metadata": {},
   "outputs": [],
   "source": [
    "save_train_test_data(car_insurance, label_ci, '../../data/car_insurance', ci_categorical_cols )\n",
    "save_train_test_data(vehicle_insurance, label_vi, '../../data/vehicle_insurance', vi_categorical_cols)\n",
    "save_train_test_data(vehicle_claims, label_vc, '../../data/vehicle_claims', vc_categorical_cols)\n",
    "save_train_test_data(insurance_claims, label_ic, '../../data/insurance_claim_kaggle', ic_categorical_cols)"
   ]
  },
  {
   "cell_type": "code",
   "execution_count": 107,
   "id": "7f868495",
   "metadata": {},
   "outputs": [],
   "source": [
    "save_train_test_data_OH(car_insurance, label_ci, '../../data/car_insurance', ci_categorical_cols )\n",
    "save_train_test_data_OH(vehicle_insurance, label_vi, '../../data/vehicle_insurance', vi_categorical_cols)\n",
    "save_train_test_data_OH(vehicle_claims, label_vc, '../../data/vehicle_claims', vc_categorical_cols)\n",
    "save_train_test_data_OH(insurance_claims, label_ic, '../../data/insurance_claim_kaggle', ic_categorical_cols)"
   ]
  },
  {
   "cell_type": "code",
   "execution_count": 113,
   "id": "9f2280a6",
   "metadata": {},
   "outputs": [],
   "source": [
    "save_train_test_data_gel(car_insurance, label_ci, '../../data/car_insurance', ci_categorical_cols )\n",
    "save_train_test_data_gel(vehicle_insurance, label_vi, '../../data/vehicle_insurance', vi_categorical_cols)\n",
    "save_train_test_data_gel(vehicle_claims, label_vc, '../../data/vehicle_claims', vc_categorical_cols)\n",
    "save_train_test_data_gel(insurance_claims, label_ic, '../../data/insurance_claim_kaggle', ic_categorical_cols)"
   ]
  },
  {
   "cell_type": "code",
   "execution_count": null,
   "id": "869a6186",
   "metadata": {},
   "outputs": [],
   "source": [
    "def save_normal_data(data, path, name):\n",
    "    repr(data)\n",
    "    normal_data = get_normal_data(data, name)\n",
    "    normal_data = normal_data.reset_index(drop=True)\n",
    "    normal_data.to_csv(os.path.join(path, \"normal_data.csv\"), index=False)"
   ]
  },
  {
   "cell_type": "code",
   "execution_count": null,
   "id": "e2588201",
   "metadata": {},
   "outputs": [],
   "source": [
    "save_normal_data(vehicle_claims, '../../data/vehicle_claims', \"vehicle_claims\")"
   ]
  },
  {
   "cell_type": "code",
   "execution_count": 17,
   "id": "b8866b32",
   "metadata": {},
   "outputs": [],
   "source": [
    "save_train_test_data(vehicle_insurance, label_vi, '../../data/vehicle_insurance', vi_categorical_cols)"
   ]
  },
  {
   "cell_type": "code",
   "execution_count": 23,
   "id": "115d05b0",
   "metadata": {},
   "outputs": [],
   "source": [
    "save_train_test_data_OH(vehicle_insurance, label_vi, '../../data/vehicle_insurance', vi_categorical_cols)"
   ]
  },
  {
   "cell_type": "code",
   "execution_count": 25,
   "id": "fada3b3b",
   "metadata": {},
   "outputs": [],
   "source": [
    "save_train_test_data_gel(vehicle_insurance, label_vi, '../../data/vehicle_insurance', vi_categorical_cols)"
   ]
  },
  {
   "cell_type": "code",
   "execution_count": null,
   "id": "613a1f2b",
   "metadata": {},
   "outputs": [],
   "source": []
  }
 ],
 "metadata": {
  "kernelspec": {
   "display_name": "Python 3 (ipykernel)",
   "language": "python",
   "name": "python3"
  },
  "language_info": {
   "codemirror_mode": {
    "name": "ipython",
    "version": 3
   },
   "file_extension": ".py",
   "mimetype": "text/x-python",
   "name": "python",
   "nbconvert_exporter": "python",
   "pygments_lexer": "ipython3",
   "version": "3.8.12"
  }
 },
 "nbformat": 4,
 "nbformat_minor": 5
}
