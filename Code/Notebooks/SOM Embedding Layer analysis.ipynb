{
 "cells": [
  {
   "cell_type": "code",
   "execution_count": 40,
   "id": "f0dbac53",
   "metadata": {},
   "outputs": [],
   "source": [
    "import pandas as pd\n",
    "import numpy as np\n",
    "import matplotlib.pyplot as plt\n",
    "from utils import *\n",
    "import pickle\n",
    "import torch"
   ]
  },
  {
   "cell_type": "code",
   "execution_count": 2,
   "id": "d5678823",
   "metadata": {},
   "outputs": [],
   "source": [
    "data = load_data('../../data/vehicle_claims/vehicle_claims_labeled.csv')"
   ]
  },
  {
   "cell_type": "code",
   "execution_count": 62,
   "id": "ddac565d",
   "metadata": {},
   "outputs": [],
   "source": [
    "with open('../model/som_vehicle_claims_label_encode_5_True', 'rb') as infile:\n",
    "    som = pickle.load(infile)"
   ]
  },
  {
   "cell_type": "code",
   "execution_count": 4,
   "id": "3cb9ad0f",
   "metadata": {},
   "outputs": [
    {
     "data": {
      "text/plain": [
       "(25, 25, 208)"
      ]
     },
     "execution_count": 4,
     "metadata": {},
     "output_type": "execute_result"
    }
   ],
   "source": [
    "som.get_weights().shape"
   ]
  },
  {
   "cell_type": "code",
   "execution_count": 5,
   "id": "f0bb95e3",
   "metadata": {},
   "outputs": [],
   "source": [
    "from fastai.layers import Embedding\n",
    "from fastai.torch_core import Module\n",
    "from typing import List, Tuple\n",
    "import torch.nn as nn\n",
    "import torch"
   ]
  },
  {
   "cell_type": "code",
   "execution_count": 6,
   "id": "b594bb27",
   "metadata": {},
   "outputs": [],
   "source": [
    "class EmbeddingLayer(Module):\n",
    "\n",
    "    def __init__(self, emb_szs: List[Tuple[int, int]]):\n",
    "        self.embeddings = torch.nn.ModuleList([Embedding(in_sz, out_sz) for in_sz, out_sz in emb_szs])\n",
    "\n",
    "    def forward(self, x: torch.Tensor) -> torch.Tensor:\n",
    "        x = [emb(x[..., i]) for i, emb in enumerate(self.embeddings)]\n",
    "        x = torch.cat(x, dim=-1)\n",
    "        return x"
   ]
  },
  {
   "cell_type": "code",
   "execution_count": 7,
   "id": "aa01e021",
   "metadata": {},
   "outputs": [],
   "source": [
    "categorical_cols = ['Maker','Reg_year', ' Genmodel', 'Color', 'Bodytype', 'Engin_size', 'Gearbox', 'Fuel_type',\n",
    "                        'Seat_num', 'Door_num', 'issue', 'issue_id', 'repair_complexity']"
   ]
  },
  {
   "cell_type": "code",
   "execution_count": 8,
   "id": "91e429ac",
   "metadata": {},
   "outputs": [],
   "source": [
    "cat_cols = data[categorical_cols].astype(\"category\")"
   ]
  },
  {
   "cell_type": "code",
   "execution_count": 9,
   "id": "1ed9cd6e",
   "metadata": {},
   "outputs": [
    {
     "data": {
      "text/plain": [
       "{'Maker': 88,\n",
       " 'Reg_year': 27,\n",
       " ' Genmodel': 896,\n",
       " 'Color': 23,\n",
       " 'Bodytype': 19,\n",
       " 'Engin_size': 75,\n",
       " 'Gearbox': 4,\n",
       " 'Fuel_type': 14,\n",
       " 'Seat_num': 20,\n",
       " 'Door_num': 7,\n",
       " 'issue': 15,\n",
       " 'issue_id': 6,\n",
       " 'repair_complexity': 4}"
      ]
     },
     "execution_count": 9,
     "metadata": {},
     "output_type": "execute_result"
    }
   ],
   "source": [
    "embedded_cols = {n: len(col.cat.categories) for n,col in cat_cols.items() if (col.dtype == \"category\")}\n",
    "embedded_cols"
   ]
  },
  {
   "cell_type": "code",
   "execution_count": 10,
   "id": "2c00f14b",
   "metadata": {},
   "outputs": [],
   "source": [
    "embedded_col_names = embedded_cols.keys()\n",
    "embed = []\n",
    "for i, name in enumerate(embedded_col_names):\n",
    "    embed_elem = {cat : n for n, cat in enumerate(cat_cols[name].cat.categories)}\n",
    "    embed.append(embed_elem)"
   ]
  },
  {
   "cell_type": "code",
   "execution_count": 11,
   "id": "2ad1039c",
   "metadata": {},
   "outputs": [
    {
     "data": {
      "text/plain": [
       "[(88, 44),\n",
       " (27, 14),\n",
       " (896, 50),\n",
       " (23, 12),\n",
       " (19, 10),\n",
       " (75, 38),\n",
       " (4, 2),\n",
       " (14, 7),\n",
       " (20, 10),\n",
       " (7, 4),\n",
       " (15, 8),\n",
       " (6, 3),\n",
       " (4, 2)]"
      ]
     },
     "execution_count": 11,
     "metadata": {},
     "output_type": "execute_result"
    }
   ],
   "source": [
    "embedding_sizes = [(n_categories, min(50, (n_categories+1)//2)) for _,n_categories in embedded_cols.items()]\n",
    "embedding_sizes"
   ]
  },
  {
   "cell_type": "code",
   "execution_count": null,
   "id": "15c6ae5a",
   "metadata": {},
   "outputs": [],
   "source": []
  },
  {
   "cell_type": "code",
   "execution_count": null,
   "id": "ce9f31f3",
   "metadata": {},
   "outputs": [],
   "source": []
  },
  {
   "cell_type": "code",
   "execution_count": 12,
   "id": "0ea639a5",
   "metadata": {},
   "outputs": [
    {
     "name": "stdout",
     "output_type": "stream",
     "text": [
      "204\n"
     ]
    }
   ],
   "source": [
    "sum = 0\n",
    "for i in range(len(embedding_sizes)):\n",
    "    sum = sum + embedding_sizes[i][1]\n",
    "print(sum)"
   ]
  },
  {
   "cell_type": "code",
   "execution_count": 13,
   "id": "0a4a7ac1",
   "metadata": {},
   "outputs": [],
   "source": [
    "weights = som.get_weights()"
   ]
  },
  {
   "cell_type": "code",
   "execution_count": 14,
   "id": "817eec7e",
   "metadata": {},
   "outputs": [
    {
     "data": {
      "text/plain": [
       "(25, 25, 208)"
      ]
     },
     "execution_count": 14,
     "metadata": {},
     "output_type": "execute_result"
    }
   ],
   "source": [
    "weights.shape"
   ]
  },
  {
   "cell_type": "code",
   "execution_count": 15,
   "id": "d614a77f",
   "metadata": {},
   "outputs": [
    {
     "name": "stdout",
     "output_type": "stream",
     "text": [
      "0 44\n",
      "44 58\n",
      "58 108\n",
      "108 120\n",
      "120 130\n",
      "130 168\n",
      "168 170\n",
      "170 177\n",
      "177 187\n",
      "187 191\n",
      "191 199\n",
      "199 202\n",
      "202 204\n"
     ]
    }
   ],
   "source": [
    "embedding_weights = {}\n",
    "start = 0\n",
    "end = 0\n",
    "for i in range(len(embedding_sizes)):\n",
    "    end = start + embedding_sizes[i][1]\n",
    "    print(start, end)\n",
    "    embedding_weights[i] = weights[:,:,start:end]\n",
    "    start = end \n",
    "    "
   ]
  },
  {
   "cell_type": "code",
   "execution_count": 16,
   "id": "404f750c",
   "metadata": {},
   "outputs": [],
   "source": [
    "with open('../../emb_weights.npy', 'rb') as f:\n",
    "    w = np.load(f, allow_pickle=True)"
   ]
  },
  {
   "cell_type": "code",
   "execution_count": 17,
   "id": "5ac728c2",
   "metadata": {},
   "outputs": [],
   "source": [
    "test_data = load_data('../../data/vehicle_claims/test.csv')"
   ]
  },
  {
   "cell_type": "code",
   "execution_count": 18,
   "id": "5b047f41",
   "metadata": {},
   "outputs": [
    {
     "name": "stdout",
     "output_type": "stream",
     "text": [
      "C:\\Users\\ajayc\\Desktop\\ajay_chawda\\Code\n"
     ]
    }
   ],
   "source": [
    "cd .."
   ]
  },
  {
   "cell_type": "code",
   "execution_count": 19,
   "id": "b5fa1aff",
   "metadata": {},
   "outputs": [],
   "source": [
    "from datasets.vehicle_claims import Vehicle_Claims"
   ]
  },
  {
   "cell_type": "code",
   "execution_count": 60,
   "id": "094dba5b",
   "metadata": {},
   "outputs": [],
   "source": [
    "test_path = '../data/vehicle_claims/test.csv'\n",
    "test_label_file = 'test_Y.csv'\n",
    "test_dataset = Vehicle_Claims(embedding_layer = True,  encoding = False,  path = test_path, label_file = test_label_file)"
   ]
  },
  {
   "cell_type": "code",
   "execution_count": 21,
   "id": "cb65c9a7",
   "metadata": {},
   "outputs": [],
   "source": [
    "from torch.utils.data import DataLoader\n",
    "from classic_ML.SOM import som_train, som_pred, som_embedding_data"
   ]
  },
  {
   "cell_type": "code",
   "execution_count": 64,
   "id": "1a145b1f",
   "metadata": {},
   "outputs": [
    {
     "name": "stdout",
     "output_type": "stream",
     "text": [
      "0\n",
      "1\n",
      "2\n",
      "3\n",
      "4\n",
      "5\n",
      "6\n",
      "7\n",
      "8\n",
      "9\n",
      "10\n",
      "11\n",
      "12\n",
      "13\n",
      "14\n",
      "15\n",
      "16\n",
      "17\n",
      "18\n",
      "19\n",
      "20\n",
      "21\n",
      "22\n",
      "23\n",
      "24\n",
      "25\n",
      "26\n",
      "27\n",
      "28\n",
      "29\n",
      "30\n",
      "31\n",
      "32\n",
      "33\n",
      "34\n",
      "35\n",
      "36\n",
      "37\n",
      "38\n",
      "39\n",
      "40\n",
      "41\n",
      "42\n",
      "43\n",
      "44\n",
      "45\n",
      "46\n",
      "47\n",
      "48\n",
      "49\n",
      "50\n",
      "51\n",
      "52\n",
      "53\n",
      "54\n",
      "55\n",
      "56\n",
      "57\n",
      "58\n",
      "59\n",
      "60\n",
      "61\n",
      "62\n",
      "63\n",
      "64\n",
      "65\n",
      "66\n",
      "67\n",
      "68\n",
      "69\n",
      "70\n",
      "71\n",
      "72\n",
      "73\n",
      "74\n",
      "75\n",
      "76\n",
      "77\n",
      "78\n"
     ]
    }
   ],
   "source": [
    "dataloader = DataLoader(test_dataset, batch_size = 1024)\n",
    "frequencies = np.zeros((5,5))\n",
    "w_x, w_y = [], []\n",
    "for i, data in enumerate(dataloader):\n",
    "    print(i)\n",
    "    y_test = np.hstack((y_test, data[2]))\n",
    "    data = som_embedding_data(data[0], data[1], test_dataset.embedding_sizes)\n",
    "    data = data.detach()\n",
    "    pred = som_pred(som, data, (100-70)/100)\n",
    "    y_pred = np.hstack((y_pred, pred))\n",
    "    x, y = zip(*[som.winner(d) for d in data])\n",
    "    w_x = np.hstack((w_x,x))\n",
    "    w_y = np.hstack((w_y,y))\n",
    "    a = som.activation_response(data)\n",
    "    frequencies = np.add(frequencies, a)"
   ]
  },
  {
   "cell_type": "code",
   "execution_count": 65,
   "id": "ec7f005a",
   "metadata": {},
   "outputs": [],
   "source": [
    "w_x = np.array(w_x)\n",
    "w_y = np.array(w_y)"
   ]
  },
  {
   "cell_type": "code",
   "execution_count": 66,
   "id": "be37dd39",
   "metadata": {},
   "outputs": [
    {
     "data": {
      "image/png": "[encoded data removed]",
      "text/plain": [
       "<Figure size 504x504 with 2 Axes>"
      ]
     },
     "metadata": {
      "needs_background": "light"
     },
     "output_type": "display_data"
    }
   ],
   "source": [
    "plt.figure(figsize=(7, 7))\n",
    "plt.title('Heatmap of SOM - embedding layer')\n",
    "plt.pcolor(frequencies.T, cmap='Blues') \n",
    "plt.colorbar()\n",
    "plt.savefig('SOM_embed_VC_5.png')\n"
   ]
  },
  {
   "cell_type": "code",
   "execution_count": 28,
   "id": "95ebbd6b",
   "metadata": {},
   "outputs": [],
   "source": [
    "test_path = '../data/vehicle_claims/test_label.csv'\n",
    "test_label_file = 'test_label_Y.csv'\n",
    "test_dataset = Vehicle_Claims(embedding_layer = False,  encoding = \"label_encode\",  path = test_path, label_file = test_label_file)"
   ]
  },
  {
   "cell_type": "code",
   "execution_count": 31,
   "id": "2db2b976",
   "metadata": {},
   "outputs": [],
   "source": [
    "with open('../model/som_vehicle_claims_label_encode_5_False', 'rb') as infile:\n",
    "    som = pickle.load(infile)"
   ]
  },
  {
   "cell_type": "code",
   "execution_count": 41,
   "id": "654bbbf8",
   "metadata": {},
   "outputs": [
    {
     "name": "stdout",
     "output_type": "stream",
     "text": [
      "0\n",
      "1\n",
      "2\n",
      "3\n",
      "4\n",
      "5\n",
      "6\n",
      "7\n",
      "8\n",
      "9\n",
      "10\n",
      "11\n",
      "12\n",
      "13\n",
      "14\n",
      "15\n",
      "16\n",
      "17\n",
      "18\n",
      "19\n",
      "20\n",
      "21\n",
      "22\n",
      "23\n",
      "24\n",
      "25\n",
      "26\n",
      "27\n",
      "28\n",
      "29\n",
      "30\n",
      "31\n",
      "32\n",
      "33\n",
      "34\n",
      "35\n",
      "36\n",
      "37\n",
      "38\n",
      "39\n",
      "40\n",
      "41\n",
      "42\n",
      "43\n",
      "44\n",
      "45\n",
      "46\n",
      "47\n",
      "48\n",
      "49\n",
      "50\n",
      "51\n",
      "52\n",
      "53\n",
      "54\n",
      "55\n",
      "56\n",
      "57\n",
      "58\n",
      "59\n",
      "60\n",
      "61\n",
      "62\n",
      "63\n",
      "64\n",
      "65\n",
      "66\n",
      "67\n",
      "68\n",
      "69\n",
      "70\n",
      "71\n",
      "72\n",
      "73\n",
      "74\n",
      "75\n",
      "76\n",
      "77\n",
      "78\n"
     ]
    }
   ],
   "source": [
    "dataloader = DataLoader(test_dataset, batch_size = 1024)\n",
    "frequencies = np.zeros((25,25))\n",
    "w_x, w_y = [], []\n",
    "for i, data in enumerate(dataloader):\n",
    "    print(i)\n",
    "    y_test = np.hstack((y_test, data[2]))\n",
    "    data = torch.cat([data[0], data[1]], -1)\n",
    "    data = data.detach()\n",
    "    pred = som_pred(som, data, (100-70)/100)\n",
    "    y_pred = np.hstack((y_pred, pred))\n",
    "    x, y = zip(*[som.winner(d) for d in data])\n",
    "    w_x = np.hstack((w_x,x))\n",
    "    w_y = np.hstack((w_y,y))\n",
    "    a = som.activation_response(data)\n",
    "    frequencies = np.add(frequencies, a)"
   ]
  },
  {
   "cell_type": "code",
   "execution_count": 42,
   "id": "48ce1df5",
   "metadata": {},
   "outputs": [],
   "source": [
    "w_x = np.array(w_x)\n",
    "w_y = np.array(w_y)"
   ]
  },
  {
   "cell_type": "code",
   "execution_count": 43,
   "id": "6e40424b",
   "metadata": {},
   "outputs": [
    {
     "data": {
      "image/png": "[encoded data removed]",
      "text/plain": [
       "<Figure size 504x504 with 2 Axes>"
      ]
     },
     "metadata": {
      "needs_background": "light"
     },
     "output_type": "display_data"
    }
   ],
   "source": [
    "plt.figure(figsize=(7, 7))\n",
    "plt.title('Heatmap of SOM - Label encode')\n",
    "plt.pcolor(frequencies.T, cmap='Blues') \n",
    "plt.colorbar()\n",
    "plt.savefig('SOM_label_heatmap.png')"
   ]
  },
  {
   "cell_type": "code",
   "execution_count": 67,
   "id": "9af1e1dd",
   "metadata": {},
   "outputs": [],
   "source": [
    "from datasets.vehicle_insurance import Vehicle_Insurance\n",
    "test_path = '../data/vehicle_insurance/test.csv'\n",
    "test_label_file = 'test_Y.csv'\n",
    "test_dataset = Vehicle_Insurance(embedding_layer = True,  encoding = False,  path = test_path, label_file = test_label_file)"
   ]
  },
  {
   "cell_type": "code",
   "execution_count": 68,
   "id": "7b639d92",
   "metadata": {},
   "outputs": [],
   "source": [
    "with open('../model/som_vehicle_insurance_label_encode_5_True', 'rb') as infile:\n",
    "    som = pickle.load(infile)"
   ]
  },
  {
   "cell_type": "code",
   "execution_count": 69,
   "id": "69afac36",
   "metadata": {},
   "outputs": [
    {
     "name": "stdout",
     "output_type": "stream",
     "text": [
      "0\n",
      "1\n",
      "2\n",
      "3\n",
      "4\n"
     ]
    }
   ],
   "source": [
    "dataloader = DataLoader(test_dataset, batch_size = 1024)\n",
    "frequencies = np.zeros((5,5))\n",
    "w_x, w_y = [], []\n",
    "for i, data in enumerate(dataloader):\n",
    "    print(i)\n",
    "    y_test = np.hstack((y_test, data[2]))\n",
    "    data = som_embedding_data(data[0], data[1], test_dataset.embedding_sizes)\n",
    "    data = data.detach()\n",
    "    pred = som_pred(som, data, (100-70)/100)\n",
    "    y_pred = np.hstack((y_pred, pred))\n",
    "    x, y = zip(*[som.winner(d) for d in data])\n",
    "    w_x = np.hstack((w_x,x))\n",
    "    w_y = np.hstack((w_y,y))\n",
    "    a = som.activation_response(data)\n",
    "    frequencies = np.add(frequencies, a)"
   ]
  },
  {
   "cell_type": "code",
   "execution_count": 70,
   "id": "8daef900",
   "metadata": {},
   "outputs": [],
   "source": [
    "w_x = np.array(w_x)\n",
    "w_y = np.array(w_y)"
   ]
  },
  {
   "cell_type": "code",
   "execution_count": 71,
   "id": "4e78b262",
   "metadata": {},
   "outputs": [
    {
     "data": {
      "image/png": "[encoded data removed]",
      "text/plain": [
       "<Figure size 504x504 with 2 Axes>"
      ]
     },
     "metadata": {
      "needs_background": "light"
     },
     "output_type": "display_data"
    }
   ],
   "source": [
    "plt.figure(figsize=(7, 7))\n",
    "plt.title('Heatmap of SOM - Embedding Layer')\n",
    "plt.pcolor(frequencies.T, cmap='Blues') \n",
    "plt.colorbar()\n",
    "plt.savefig('SOM_embed_VI_5.png')"
   ]
  },
  {
   "cell_type": "code",
   "execution_count": 72,
   "id": "12b336ea",
   "metadata": {},
   "outputs": [],
   "source": [
    "from datasets.car_insurance import Car_insurance\n",
    "test_path = '../data/car_insurance/test.csv'\n",
    "test_label_file = 'test_Y.csv'\n",
    "test_dataset = Car_insurance(embedding_layer = True,  encoding = False,  path = test_path, label_file = test_label_file)"
   ]
  },
  {
   "cell_type": "code",
   "execution_count": 73,
   "id": "571b619e",
   "metadata": {},
   "outputs": [],
   "source": [
    "with open('../model/som_car_insurance_label_encode_5_True', 'rb') as infile:\n",
    "    som = pickle.load(infile)"
   ]
  },
  {
   "cell_type": "code",
   "execution_count": 74,
   "id": "844794f2",
   "metadata": {},
   "outputs": [
    {
     "name": "stdout",
     "output_type": "stream",
     "text": [
      "0\n"
     ]
    }
   ],
   "source": [
    "dataloader = DataLoader(test_dataset, batch_size = 1024)\n",
    "frequencies = np.zeros((5,5))\n",
    "w_x, w_y = [], []\n",
    "for i, data in enumerate(dataloader):\n",
    "    print(i)\n",
    "    y_test = np.hstack((y_test, data[2]))\n",
    "    data = som_embedding_data(data[0], data[1], test_dataset.embedding_sizes)\n",
    "    data = data.detach()\n",
    "    pred = som_pred(som, data, (100-70)/100)\n",
    "    y_pred = np.hstack((y_pred, pred))\n",
    "    x, y = zip(*[som.winner(d) for d in data])\n",
    "    w_x = np.hstack((w_x,x))\n",
    "    w_y = np.hstack((w_y,y))\n",
    "    a = som.activation_response(data)\n",
    "    frequencies = np.add(frequencies, a)"
   ]
  },
  {
   "cell_type": "code",
   "execution_count": 75,
   "id": "7efe183d",
   "metadata": {},
   "outputs": [
    {
     "data": {
      "image/png": "[encoded data removed]",
      "text/plain": [
       "<Figure size 504x504 with 2 Axes>"
      ]
     },
     "metadata": {
      "needs_background": "light"
     },
     "output_type": "display_data"
    }
   ],
   "source": [
    "w_x = np.array(w_x)\n",
    "w_y = np.array(w_y)\n",
    "plt.figure(figsize=(7, 7))\n",
    "plt.title('Heatmap of SOM - Embedding Layer')\n",
    "plt.pcolor(frequencies.T, cmap='Blues') \n",
    "plt.colorbar()\n",
    "plt.savefig('SOM_embed_CI_5.png')"
   ]
  },
  {
   "cell_type": "code",
   "execution_count": null,
   "id": "6e1cbfdd",
   "metadata": {},
   "outputs": [],
   "source": []
  }
 ],
 "metadata": {
  "kernelspec": {
   "display_name": "Python 3 (ipykernel)",
   "language": "python",
   "name": "python3"
  },
  "language_info": {
   "codemirror_mode": {
    "name": "ipython",
    "version": 3
   },
   "file_extension": ".py",
   "mimetype": "text/x-python",
   "name": "python",
   "nbconvert_exporter": "python",
   "pygments_lexer": "ipython3",
   "version": "3.8.12"
  }
 },
 "nbformat": 4,
 "nbformat_minor": 5
}
