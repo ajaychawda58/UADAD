{
 "cells": [
  {
   "cell_type": "code",
   "execution_count": 6,
   "id": "415c445b",
   "metadata": {},
   "outputs": [],
   "source": [
    "import pandas as pd\n",
    "import numpy as np\n",
    "import matplotlib.pyplot as plt\n",
    "from utils import *"
   ]
  },
  {
   "cell_type": "code",
   "execution_count": 4,
   "id": "6cf23880",
   "metadata": {},
   "outputs": [
    {
     "name": "stdout",
     "output_type": "stream",
     "text": [
      "Defaulting to user installation because normal site-packages is not writeable\n",
      "Collecting qgel\n",
      "  Using cached qgel-0.1.3-py3-none-any.whl (2.4 kB)\n",
      "Installing collected packages: qgel\n",
      "Successfully installed qgel-0.1.3\n",
      "\n",
      "\u001b[1m[\u001b[0m\u001b[34;49mnotice\u001b[0m\u001b[1;39;49m]\u001b[0m\u001b[39;49m A new release of pip available: \u001b[0m\u001b[31;49m22.1.2\u001b[0m\u001b[39;49m -> \u001b[0m\u001b[32;49m22.2.1\u001b[0m\n",
      "\u001b[1m[\u001b[0m\u001b[34;49mnotice\u001b[0m\u001b[1;39;49m]\u001b[0m\u001b[39;49m To update, run: \u001b[0m\u001b[32;49mpip install --upgrade pip\u001b[0m\n"
     ]
    }
   ],
   "source": [
    "!pip install qgel"
   ]
  },
  {
   "cell_type": "code",
   "execution_count": 7,
   "id": "9ea56083",
   "metadata": {},
   "outputs": [],
   "source": [
    "data = load_data('../../data/vehicle_claims/vehicle_claims_labeled.csv')"
   ]
  },
  {
   "cell_type": "code",
   "execution_count": 8,
   "id": "626a5c6f",
   "metadata": {},
   "outputs": [],
   "source": [
    "cols_to_remove = [' Genmodel_ID', 'Adv_year', 'Adv_month', 'Adv_day', 'breakdown_date', 'repair_date', 'category_anomaly', 'Label']"
   ]
  },
  {
   "cell_type": "code",
   "execution_count": 9,
   "id": "5fb5dcd5",
   "metadata": {},
   "outputs": [
    {
     "data": {
      "text/plain": [
       "Index(['Maker', ' Genmodel', 'Color', 'Reg_year', 'Bodytype', 'Runned_Miles',\n",
       "       'Engin_size', 'Gearbox', 'Fuel_type', 'Price', 'Seat_num', 'Door_num',\n",
       "       'issue', 'issue_id', 'repair_complexity', 'repair_cost',\n",
       "       'repair_hours'],\n",
       "      dtype='object')"
      ]
     },
     "execution_count": 9,
     "metadata": {},
     "output_type": "execute_result"
    }
   ],
   "source": [
    "data = remove_cols(data, cols_to_remove)\n",
    "cols = data.columns\n",
    "cols"
   ]
  },
  {
   "cell_type": "code",
   "execution_count": 13,
   "id": "dfc62d97",
   "metadata": {},
   "outputs": [],
   "source": [
    "def gel_encoding(data, cols):\n",
    "    encode_data = data[cols]\n",
    "    encoded_data = pd.DataFrame()\n",
    "    for column in encode_data:\n",
    "        new_data = pd.get_dummies(encode_data[column], prefix=column)\n",
    "        \n",
    "    embedding, vectors, source_data_ = qgel.qgel(one_hot_data = new_data, \n",
    "                                                 k = int(len(cols)), \n",
    "                                                 learning_method = 'unsupervised') \n",
    "    data = pd.DataFrame(embedding, columns=[x for x in range(0,int(len(cols)))])\n",
    "    return data"
   ]
  },
  {
   "cell_type": "code",
   "execution_count": 15,
   "id": "83ae3d62",
   "metadata": {},
   "outputs": [],
   "source": [
    "gel_encoded_vc = gel_encoding(data, cols)"
   ]
  },
  {
   "cell_type": "code",
   "execution_count": 16,
   "id": "e3400255",
   "metadata": {},
   "outputs": [],
   "source": [
    "gel_encoded_vc.to_csv('../../data/vehicle_claims/gel_encoded.csv')"
   ]
  },
  {
   "cell_type": "code",
   "execution_count": null,
   "id": "693f8fce",
   "metadata": {},
   "outputs": [],
   "source": []
  }
 ],
 "metadata": {
  "kernelspec": {
   "display_name": "Python 3 (ipykernel)",
   "language": "python",
   "name": "python3"
  },
  "language_info": {
   "codemirror_mode": {
    "name": "ipython",
    "version": 3
   },
   "file_extension": ".py",
   "mimetype": "text/x-python",
   "name": "python",
   "nbconvert_exporter": "python",
   "pygments_lexer": "ipython3",
   "version": "3.9.7"
  }
 },
 "nbformat": 4,
 "nbformat_minor": 5
}
