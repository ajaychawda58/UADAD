{
 "cells": [
  {
   "cell_type": "code",
   "execution_count": 1,
   "id": "d235cb8d",
   "metadata": {},
   "outputs": [],
   "source": [
    "import pandas as pd\n",
    "import numpy as np\n",
    "import matplotlib.pyplot as plt\n",
    "from utils import *"
   ]
  },
  {
   "cell_type": "code",
   "execution_count": 2,
   "id": "98c3da8b",
   "metadata": {},
   "outputs": [],
   "source": [
    "gel_encoded_vc = load_data('../../data/vehicle_claims/gel_encoded.csv')\n",
    "gel_encoded_vc_10 = load_data('../../data/vehicle_claims/gel_encoded_10.csv')"
   ]
  },
  {
   "cell_type": "code",
   "execution_count": 3,
   "id": "3d484dab",
   "metadata": {},
   "outputs": [],
   "source": [
    "gel_encoded_vi = load_data('../../data/vehicle_insurance/gel_encoded.csv')\n",
    "gel_encoded_vi_10 = load_data('../../data/vehicle_insurance/gel_encoded_10.csv')"
   ]
  },
  {
   "cell_type": "code",
   "execution_count": 4,
   "id": "ce512f4a",
   "metadata": {},
   "outputs": [],
   "source": [
    "gel_encoded_ci = load_data('../../data/car_insurance/gel_encoded.csv')\n",
    "gel_encoded_ci_10 = load_data('../../data/car_insurance/gel_encoded_10.csv')"
   ]
  },
  {
   "cell_type": "markdown",
   "id": "a0c25331",
   "metadata": {},
   "source": [
    "**Reduce Dimension**"
   ]
  },
  {
   "cell_type": "code",
   "execution_count": 5,
   "id": "d13b3f9a",
   "metadata": {},
   "outputs": [],
   "source": [
    "from sklearn import decomposition"
   ]
  },
  {
   "cell_type": "code",
   "execution_count": 6,
   "id": "1fefbc89",
   "metadata": {},
   "outputs": [],
   "source": [
    "pca = decomposition.PCA(n_components=1)\n",
    "pca.fit(gel_encoded_ci)\n",
    "low_dim_ci = pca.transform(gel_encoded_ci)"
   ]
  },
  {
   "cell_type": "code",
   "execution_count": 7,
   "id": "fc8aeae5",
   "metadata": {},
   "outputs": [],
   "source": [
    "pca.fit(gel_encoded_vi)\n",
    "low_dim_vi = pca.transform(gel_encoded_vi)"
   ]
  },
  {
   "cell_type": "code",
   "execution_count": 8,
   "id": "a676ea7d",
   "metadata": {},
   "outputs": [],
   "source": [
    "pca.fit(gel_encoded_vc)\n",
    "low_dim_vc = pca.transform(gel_encoded_vc)"
   ]
  },
  {
   "cell_type": "code",
   "execution_count": 9,
   "id": "48edf17c",
   "metadata": {},
   "outputs": [],
   "source": [
    "from sklearn import preprocessing\n",
    "min_max_scaler = preprocessing.MinMaxScaler()\n"
   ]
  },
  {
   "cell_type": "code",
   "execution_count": 10,
   "id": "549c5c2d",
   "metadata": {},
   "outputs": [],
   "source": [
    "ci_scaled = min_max_scaler.fit_transform(low_dim_ci)\n",
    "vi_scaled = min_max_scaler.fit_transform(low_dim_vi)\n",
    "vc_scaled = min_max_scaler.fit_transform(low_dim_vc)"
   ]
  },
  {
   "cell_type": "markdown",
   "id": "e717ac2a",
   "metadata": {},
   "source": [
    "**GMM**"
   ]
  },
  {
   "cell_type": "code",
   "execution_count": 11,
   "id": "c7763f4c",
   "metadata": {},
   "outputs": [],
   "source": [
    "from sklearn.mixture import GaussianMixture"
   ]
  },
  {
   "cell_type": "code",
   "execution_count": 38,
   "id": "57dc2b62",
   "metadata": {},
   "outputs": [
    {
     "name": "stderr",
     "output_type": "stream",
     "text": [
      "C:\\Users\\ajayc\\anaconda3\\envs\\thesis\\lib\\site-packages\\sklearn\\cluster\\_kmeans.py:1036: UserWarning: KMeans is known to have a memory leak on Windows with MKL, when there are less chunks than available threads. You can avoid it by setting the environment variable OMP_NUM_THREADS=4.\n",
      "  warnings.warn(\n"
     ]
    }
   ],
   "source": [
    "gm_ci = GaussianMixture(n_components=1, random_state=0).fit(ci_scaled)\n",
    "gm_vi = GaussianMixture(n_components=1, random_state=0).fit(vi_scaled)\n",
    "gm_vc = GaussianMixture(n_components=1, random_state=0).fit(vc_scaled)"
   ]
  },
  {
   "cell_type": "code",
   "execution_count": 39,
   "id": "e28f1d30",
   "metadata": {},
   "outputs": [
    {
     "data": {
      "text/plain": [
       "(array([[0.47742685]]), array([[[0.05618719]]]))"
      ]
     },
     "execution_count": 39,
     "metadata": {},
     "output_type": "execute_result"
    }
   ],
   "source": [
    "gm_ci.means_, gm_ci.covariances_"
   ]
  },
  {
   "cell_type": "code",
   "execution_count": 40,
   "id": "e70d0a71",
   "metadata": {},
   "outputs": [
    {
     "data": {
      "text/plain": [
       "(array([[0.41652024]]), array([[[0.02994736]]]))"
      ]
     },
     "execution_count": 40,
     "metadata": {},
     "output_type": "execute_result"
    }
   ],
   "source": [
    "gm_vi.means_, gm_vi.covariances_"
   ]
  },
  {
   "cell_type": "code",
   "execution_count": 41,
   "id": "0543d9da",
   "metadata": {},
   "outputs": [
    {
     "data": {
      "text/plain": [
       "(array([[0.34922397]]), array([[[0.145115]]]))"
      ]
     },
     "execution_count": 41,
     "metadata": {},
     "output_type": "execute_result"
    }
   ],
   "source": [
    "gm_vc.means_, gm_vc.covariances_"
   ]
  },
  {
   "cell_type": "markdown",
   "id": "764d0f22",
   "metadata": {},
   "source": [
    "**KS Test**"
   ]
  },
  {
   "cell_type": "code",
   "execution_count": 16,
   "id": "a377c51f",
   "metadata": {},
   "outputs": [],
   "source": [
    "from scipy import stats"
   ]
  },
  {
   "cell_type": "code",
   "execution_count": 17,
   "id": "17a77687",
   "metadata": {},
   "outputs": [
    {
     "data": {
      "text/plain": [
       "0.23992307692307693"
      ]
     },
     "execution_count": 17,
     "metadata": {},
     "output_type": "execute_result"
    }
   ],
   "source": [
    "avg_ks = 0\n",
    "for i in range(int(len(vi_scaled)/1000)-1):\n",
    "    vi_data = vi_scaled[1000*(i):1000*(i+1),0]\n",
    "    ks_test = stats.kstest(ci_scaled[:,0], vi_data)\n",
    "    avg_ks += ks_test.statistic\n",
    "avg_ks/i"
   ]
  },
  {
   "cell_type": "code",
   "execution_count": 18,
   "id": "8e69db5f",
   "metadata": {},
   "outputs": [
    {
     "data": {
      "text/plain": [
       "0.46749624060150474"
      ]
     },
     "execution_count": 18,
     "metadata": {},
     "output_type": "execute_result"
    }
   ],
   "source": [
    "avg_ks = 0\n",
    "for i in range(int(len(vc_scaled)/1000)-1):\n",
    "    vc_data = vc_scaled[1000*(i):1000*(i+1),0]\n",
    "    ks_test = stats.kstest(ci_scaled[:,0], vc_data)\n",
    "    avg_ks += ks_test.statistic\n",
    "avg_ks/i"
   ]
  },
  {
   "cell_type": "code",
   "execution_count": 19,
   "id": "031f716c",
   "metadata": {},
   "outputs": [
    {
     "data": {
      "text/plain": [
       "0.46031249999999996"
      ]
     },
     "execution_count": 19,
     "metadata": {},
     "output_type": "execute_result"
    }
   ],
   "source": [
    "avg_ks = 0\n",
    "for i in range(int(len(vc_scaled)/10000)-1):\n",
    "    vc_data = vc_scaled[10000*(i):10000*(i+1),0]\n",
    "    ks_test = stats.kstest(vi_scaled[:10000,0], vc_data)\n",
    "    avg_ks += ks_test.statistic\n",
    "avg_ks/i"
   ]
  },
  {
   "cell_type": "markdown",
   "id": "a52cc655",
   "metadata": {},
   "source": [
    "**Minkowski Distance**"
   ]
  },
  {
   "cell_type": "code",
   "execution_count": 20,
   "id": "addee1cb",
   "metadata": {},
   "outputs": [],
   "source": [
    "from scipy.spatial import distance"
   ]
  },
  {
   "cell_type": "code",
   "execution_count": 21,
   "id": "70e2ebc1",
   "metadata": {},
   "outputs": [
    {
     "data": {
      "text/plain": [
       "10.21748694832737"
      ]
     },
     "execution_count": 21,
     "metadata": {},
     "output_type": "execute_result"
    }
   ],
   "source": [
    "avg_ms = 0\n",
    "for i in range(int(len(vi_scaled)/1000)-1):\n",
    "    vi_data = vi_scaled[1000*(i):1000*(i+1),0]\n",
    "    ms = distance.minkowski(ci_scaled[:,0], vi_data)\n",
    "    avg_ms += ms\n",
    "avg_ms/i"
   ]
  },
  {
   "cell_type": "code",
   "execution_count": 22,
   "id": "44daff64",
   "metadata": {},
   "outputs": [
    {
     "data": {
      "text/plain": [
       "14.750836083074313"
      ]
     },
     "execution_count": 22,
     "metadata": {},
     "output_type": "execute_result"
    }
   ],
   "source": [
    "avg_ms = 0\n",
    "for i in range(int(len(vc_scaled)/1000)-1):\n",
    "    vc_data = vc_scaled[1000*(i):1000*(i+1),0]\n",
    "    ms = distance.minkowski(ci_scaled[:,0], vc_data)\n",
    "    avg_ms += ms\n",
    "avg_ms/i"
   ]
  },
  {
   "cell_type": "code",
   "execution_count": 80,
   "id": "4974bf92",
   "metadata": {},
   "outputs": [
    {
     "data": {
      "text/plain": [
       "24.787516144931924"
      ]
     },
     "execution_count": 80,
     "metadata": {},
     "output_type": "execute_result"
    }
   ],
   "source": [
    "avg_ms = 0\n",
    "ms1 = 0\n",
    "for i in range(int(len(vc_scaled)/1000)-1):\n",
    "    for j in range(int(len(vi_scaled)/1000)-1):\n",
    "        vc_data = vc_scaled[1000*(i):1000*(i+1),0]\n",
    "        ms = distance.minkowski(vi_scaled[1000*(j):1000*(j+1),0], vc_data)\n",
    "        ms1 += (ms)\n",
    "    avg_ms += ms1\n",
    "avg_ms / (i*1000)"
   ]
  },
  {
   "cell_type": "markdown",
   "id": "9ee56a5c",
   "metadata": {},
   "source": [
    "**KL Divergence**"
   ]
  },
  {
   "cell_type": "code",
   "execution_count": 44,
   "id": "27a0caee",
   "metadata": {},
   "outputs": [],
   "source": [
    "def kld_gauss(u1, v1, u2, v2):\n",
    "  s1 = np.sqrt(v1)\n",
    "  s2 = np.sqrt(v2)\n",
    "  a = np.log(s2/s1) \n",
    "  num = v1 + (u1 - u2)**2\n",
    "  den = 2 * v2\n",
    "  b = num / den\n",
    "  return a + b - 0.5"
   ]
  },
  {
   "cell_type": "code",
   "execution_count": 47,
   "id": "c8531d39",
   "metadata": {},
   "outputs": [
    {
     "data": {
      "text/plain": [
       "0.18541100284229706"
      ]
     },
     "execution_count": 47,
     "metadata": {},
     "output_type": "execute_result"
    }
   ],
   "source": [
    "ci_vi = kld_gauss(0.47742685,0.05618719, 0.41652024, 0.02994736)\n",
    "ci_vi"
   ]
  },
  {
   "cell_type": "code",
   "execution_count": 48,
   "id": "68b08b05",
   "metadata": {},
   "outputs": [
    {
     "data": {
      "text/plain": [
       "0.224645131723878"
      ]
     },
     "execution_count": 48,
     "metadata": {},
     "output_type": "execute_result"
    }
   ],
   "source": [
    "ci_vc = kld_gauss(0.47742685,0.05618719, 0.34922397,0.145115)\n",
    "ci_vc"
   ]
  },
  {
   "cell_type": "code",
   "execution_count": 49,
   "id": "3272d9d1",
   "metadata": {},
   "outputs": [
    {
     "data": {
      "text/plain": [
       "0.40783173568479025"
      ]
     },
     "execution_count": 49,
     "metadata": {},
     "output_type": "execute_result"
    }
   ],
   "source": [
    "vi_vc = kld_gauss(0.41652024, 0.02994736, 0.34922397,0.145115)\n",
    "vi_vc"
   ]
  },
  {
   "cell_type": "code",
   "execution_count": null,
   "id": "9999ef7d",
   "metadata": {},
   "outputs": [],
   "source": []
  }
 ],
 "metadata": {
  "kernelspec": {
   "display_name": "Python 3 (ipykernel)",
   "language": "python",
   "name": "python3"
  },
  "language_info": {
   "codemirror_mode": {
    "name": "ipython",
    "version": 3
   },
   "file_extension": ".py",
   "mimetype": "text/x-python",
   "name": "python",
   "nbconvert_exporter": "python",
   "pygments_lexer": "ipython3",
   "version": "3.8.12"
  }
 },
 "nbformat": 4,
 "nbformat_minor": 5
}
