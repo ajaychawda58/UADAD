{
 "cells": [
  {
   "cell_type": "code",
   "execution_count": 1,
   "id": "3fac74e5",
   "metadata": {},
   "outputs": [],
   "source": [
    "import pandas as pd\n",
    "import numpy as np\n",
    "import matplotlib.pyplot as plt"
   ]
  },
  {
   "cell_type": "code",
   "execution_count": 28,
   "id": "b180c5d8",
   "metadata": {},
   "outputs": [],
   "source": [
    "data = pd.read_csv('../../data/vehicle_claims_labeled.csv')"
   ]
  },
  {
   "cell_type": "code",
   "execution_count": 3,
   "id": "42b68b90",
   "metadata": {},
   "outputs": [
    {
     "data": {
      "text/plain": [
       "Maker                 object\n",
       " Genmodel             object\n",
       " Genmodel_ID          object\n",
       "Adv_year               int64\n",
       "Adv_month              int64\n",
       "Color                 object\n",
       "Reg_year             float64\n",
       "Bodytype              object\n",
       "Runned_Miles           int64\n",
       "Engin_size            object\n",
       "Gearbox               object\n",
       "Fuel_type             object\n",
       "Price                float64\n",
       "Seat_num             float64\n",
       "Door_num             float64\n",
       "issue                 object\n",
       "issue_id               int64\n",
       "Adv_day                int64\n",
       "breakdown_date        object\n",
       "repair_complexity      int64\n",
       "repair_cost          float64\n",
       "repair_hours         float64\n",
       "Label                  int64\n",
       "category_anomaly       int64\n",
       "repair_date           object\n",
       "dtype: object"
      ]
     },
     "execution_count": 3,
     "metadata": {},
     "output_type": "execute_result"
    }
   ],
   "source": [
    "data.dtypes"
   ]
  },
  {
   "cell_type": "code",
   "execution_count": 4,
   "id": "22fb61e1",
   "metadata": {},
   "outputs": [],
   "source": [
    "numerical_cols = ['Price', 'Seat_num', 'Door_num', 'repair_cost', 'repair_hours']"
   ]
  },
  {
   "cell_type": "code",
   "execution_count": 5,
   "id": "d433f075",
   "metadata": {},
   "outputs": [],
   "source": [
    "som_train_data = data[numerical_cols]"
   ]
  },
  {
   "cell_type": "code",
   "execution_count": 6,
   "id": "e120681a",
   "metadata": {},
   "outputs": [],
   "source": [
    "y = data['Label']"
   ]
  },
  {
   "cell_type": "code",
   "execution_count": 7,
   "id": "1479637f",
   "metadata": {},
   "outputs": [
    {
     "name": "stdout",
     "output_type": "stream",
     "text": [
      "56749\n"
     ]
    }
   ],
   "source": [
    "y = data['Label']\n",
    "count = 0\n",
    "for i in y:\n",
    "    if i == 1:\n",
    "        count += 1\n",
    "print(count)"
   ]
  },
  {
   "cell_type": "code",
   "execution_count": 8,
   "id": "88519497",
   "metadata": {},
   "outputs": [],
   "source": [
    "from sklearn.preprocessing import MinMaxScaler\n",
    "from minisom import MiniSom"
   ]
  },
  {
   "cell_type": "code",
   "execution_count": 9,
   "id": "183b1a3e",
   "metadata": {},
   "outputs": [
    {
     "data": {
      "text/html": [
       "<div>\n",
       "<style scoped>\n",
       "    .dataframe tbody tr th:only-of-type {\n",
       "        vertical-align: middle;\n",
       "    }\n",
       "\n",
       "    .dataframe tbody tr th {\n",
       "        vertical-align: top;\n",
       "    }\n",
       "\n",
       "    .dataframe thead th {\n",
       "        text-align: right;\n",
       "    }\n",
       "</style>\n",
       "<table border=\"1\" class=\"dataframe\">\n",
       "  <thead>\n",
       "    <tr style=\"text-align: right;\">\n",
       "      <th></th>\n",
       "      <th>0</th>\n",
       "      <th>1</th>\n",
       "      <th>2</th>\n",
       "      <th>3</th>\n",
       "      <th>4</th>\n",
       "    </tr>\n",
       "  </thead>\n",
       "  <tbody>\n",
       "    <tr>\n",
       "      <th>0</th>\n",
       "      <td>0.067387</td>\n",
       "      <td>0.210526</td>\n",
       "      <td>0.571429</td>\n",
       "      <td>0.003055</td>\n",
       "      <td>0.000230</td>\n",
       "    </tr>\n",
       "    <tr>\n",
       "      <th>1</th>\n",
       "      <td>0.068065</td>\n",
       "      <td>0.210526</td>\n",
       "      <td>0.571429</td>\n",
       "      <td>0.003395</td>\n",
       "      <td>0.000251</td>\n",
       "    </tr>\n",
       "    <tr>\n",
       "      <th>2</th>\n",
       "      <td>0.068182</td>\n",
       "      <td>0.210526</td>\n",
       "      <td>0.571429</td>\n",
       "      <td>0.003706</td>\n",
       "      <td>0.000251</td>\n",
       "    </tr>\n",
       "    <tr>\n",
       "      <th>3</th>\n",
       "      <td>0.068644</td>\n",
       "      <td>0.210526</td>\n",
       "      <td>0.571429</td>\n",
       "      <td>0.003070</td>\n",
       "      <td>0.000230</td>\n",
       "    </tr>\n",
       "    <tr>\n",
       "      <th>4</th>\n",
       "      <td>0.067860</td>\n",
       "      <td>0.210526</td>\n",
       "      <td>0.571429</td>\n",
       "      <td>0.003122</td>\n",
       "      <td>0.000251</td>\n",
       "    </tr>\n",
       "    <tr>\n",
       "      <th>...</th>\n",
       "      <td>...</td>\n",
       "      <td>...</td>\n",
       "      <td>...</td>\n",
       "      <td>...</td>\n",
       "      <td>...</td>\n",
       "    </tr>\n",
       "    <tr>\n",
       "      <th>268250</th>\n",
       "      <td>0.066196</td>\n",
       "      <td>0.052632</td>\n",
       "      <td>0.000000</td>\n",
       "      <td>0.003823</td>\n",
       "      <td>0.000348</td>\n",
       "    </tr>\n",
       "    <tr>\n",
       "      <th>268251</th>\n",
       "      <td>0.066125</td>\n",
       "      <td>0.947368</td>\n",
       "      <td>0.000000</td>\n",
       "      <td>0.003427</td>\n",
       "      <td>0.000334</td>\n",
       "    </tr>\n",
       "    <tr>\n",
       "      <th>268252</th>\n",
       "      <td>0.067990</td>\n",
       "      <td>0.052632</td>\n",
       "      <td>0.000000</td>\n",
       "      <td>0.003303</td>\n",
       "      <td>0.000251</td>\n",
       "    </tr>\n",
       "    <tr>\n",
       "      <th>268253</th>\n",
       "      <td>0.068644</td>\n",
       "      <td>0.052632</td>\n",
       "      <td>0.000000</td>\n",
       "      <td>0.006949</td>\n",
       "      <td>0.000376</td>\n",
       "    </tr>\n",
       "    <tr>\n",
       "      <th>268254</th>\n",
       "      <td>0.068181</td>\n",
       "      <td>0.052632</td>\n",
       "      <td>0.000000</td>\n",
       "      <td>0.003047</td>\n",
       "      <td>0.000223</td>\n",
       "    </tr>\n",
       "  </tbody>\n",
       "</table>\n",
       "<p>268255 rows × 5 columns</p>\n",
       "</div>"
      ],
      "text/plain": [
       "               0         1         2         3         4\n",
       "0       0.067387  0.210526  0.571429  0.003055  0.000230\n",
       "1       0.068065  0.210526  0.571429  0.003395  0.000251\n",
       "2       0.068182  0.210526  0.571429  0.003706  0.000251\n",
       "3       0.068644  0.210526  0.571429  0.003070  0.000230\n",
       "4       0.067860  0.210526  0.571429  0.003122  0.000251\n",
       "...          ...       ...       ...       ...       ...\n",
       "268250  0.066196  0.052632  0.000000  0.003823  0.000348\n",
       "268251  0.066125  0.947368  0.000000  0.003427  0.000334\n",
       "268252  0.067990  0.052632  0.000000  0.003303  0.000251\n",
       "268253  0.068644  0.052632  0.000000  0.006949  0.000376\n",
       "268254  0.068181  0.052632  0.000000  0.003047  0.000223\n",
       "\n",
       "[268255 rows x 5 columns]"
      ]
     },
     "execution_count": 9,
     "metadata": {},
     "output_type": "execute_result"
    }
   ],
   "source": [
    "sc = MinMaxScaler (feature_range = (0,1))\n",
    "som_train_data = sc.fit_transform(som_train_data)\n",
    "pd.DataFrame(som_train_data)"
   ]
  },
  {
   "cell_type": "code",
   "execution_count": 10,
   "id": "0f18b46d",
   "metadata": {},
   "outputs": [],
   "source": [
    "som = MiniSom(x= 10, y= 10, input_len=5, sigma=1, learning_rate=0.05)\n",
    "som.random_weights_init(som_train_data)"
   ]
  },
  {
   "cell_type": "code",
   "execution_count": 11,
   "id": "cfcf24d9",
   "metadata": {},
   "outputs": [],
   "source": [
    "som.train_random(som_train_data, 100000)"
   ]
  },
  {
   "cell_type": "code",
   "execution_count": 12,
   "id": "1774676a",
   "metadata": {},
   "outputs": [],
   "source": [
    "outlier_percentage = 56749/268255"
   ]
  },
  {
   "cell_type": "code",
   "execution_count": 13,
   "id": "2ce2e33b",
   "metadata": {},
   "outputs": [],
   "source": [
    "quantization_errors = np.linalg.norm(som.quantization(som_train_data) - som_train_data, axis=1)"
   ]
  },
  {
   "cell_type": "code",
   "execution_count": 14,
   "id": "d1ae4c06",
   "metadata": {},
   "outputs": [],
   "source": [
    "error_threshold = np.percentile(quantization_errors, \n",
    "                               100*(1-outlier_percentage)+5)"
   ]
  },
  {
   "cell_type": "code",
   "execution_count": 15,
   "id": "da827903",
   "metadata": {},
   "outputs": [],
   "source": [
    "is_anomaly = quantization_errors > error_threshold"
   ]
  },
  {
   "cell_type": "code",
   "execution_count": 16,
   "id": "40c680d2",
   "metadata": {},
   "outputs": [],
   "source": [
    "label = []\n",
    "for i in range(len(is_anomaly)):\n",
    "    if is_anomaly[i] == True:\n",
    "        label.append(1)\n",
    "    else:\n",
    "        label.append(0)"
   ]
  },
  {
   "cell_type": "code",
   "execution_count": 17,
   "id": "a7fd725b",
   "metadata": {},
   "outputs": [],
   "source": [
    "from sklearn.metrics import precision_score, recall_score, f1_score\n",
    "precision = precision_score(y, label, average='binary')\n",
    "recall = recall_score(y, label, average='binary')\n",
    "f1 = f1_score(y, label, average='binary')"
   ]
  },
  {
   "cell_type": "code",
   "execution_count": 18,
   "id": "27289e72",
   "metadata": {},
   "outputs": [
    {
     "data": {
      "text/plain": [
       "(0.512725846274546, 0.391548749757705, 0.4440181443958196)"
      ]
     },
     "execution_count": 18,
     "metadata": {},
     "output_type": "execute_result"
    }
   ],
   "source": [
    "precision, recall, f1"
   ]
  },
  {
   "cell_type": "code",
   "execution_count": 19,
   "id": "1f82d004",
   "metadata": {},
   "outputs": [
    {
     "data": {
      "text/plain": [
       "(190389, 21117, 34529, 22220)"
      ]
     },
     "execution_count": 19,
     "metadata": {},
     "output_type": "execute_result"
    }
   ],
   "source": [
    "from sklearn.metrics import confusion_matrix\n",
    "tn, fp, fn, tp = confusion_matrix(y, label).ravel()\n",
    "tn, fp, fn, tp"
   ]
  },
  {
   "cell_type": "code",
   "execution_count": 20,
   "id": "091fa542",
   "metadata": {},
   "outputs": [],
   "source": [
    "categorical_cols = ['Maker', ' Genmodel', 'Color', 'Bodytype', 'Engin_size', 'Gearbox', 'Fuel_type',\n",
    "                        'Seat_num', 'Door_num', 'issue', 'issue_id', 'repair_complexity']"
   ]
  },
  {
   "cell_type": "code",
   "execution_count": 30,
   "id": "c8c689c2",
   "metadata": {},
   "outputs": [],
   "source": [
    "from utils import *\n",
    "cols_to_remove = [' Genmodel_ID', 'Adv_year', 'Adv_month', 'Adv_day', 'breakdown_date', 'repair_date', 'category_anomaly']\n",
    "train_data = remove_cols(data, cols_to_remove)\n",
    "train_data = label_encoding(train_data, categorical_cols)"
   ]
  },
  {
   "cell_type": "code",
   "execution_count": 31,
   "id": "9d339ff2",
   "metadata": {},
   "outputs": [
    {
     "data": {
      "text/html": [
       "<div>\n",
       "<style scoped>\n",
       "    .dataframe tbody tr th:only-of-type {\n",
       "        vertical-align: middle;\n",
       "    }\n",
       "\n",
       "    .dataframe tbody tr th {\n",
       "        vertical-align: top;\n",
       "    }\n",
       "\n",
       "    .dataframe thead th {\n",
       "        text-align: right;\n",
       "    }\n",
       "</style>\n",
       "<table border=\"1\" class=\"dataframe\">\n",
       "  <thead>\n",
       "    <tr style=\"text-align: right;\">\n",
       "      <th></th>\n",
       "      <th>0</th>\n",
       "      <th>1</th>\n",
       "      <th>2</th>\n",
       "      <th>3</th>\n",
       "      <th>4</th>\n",
       "      <th>5</th>\n",
       "      <th>6</th>\n",
       "      <th>7</th>\n",
       "      <th>8</th>\n",
       "      <th>9</th>\n",
       "      <th>10</th>\n",
       "      <th>11</th>\n",
       "      <th>12</th>\n",
       "      <th>13</th>\n",
       "      <th>14</th>\n",
       "      <th>15</th>\n",
       "      <th>16</th>\n",
       "      <th>17</th>\n",
       "    </tr>\n",
       "  </thead>\n",
       "  <tbody>\n",
       "    <tr>\n",
       "      <th>0</th>\n",
       "      <td>0.090090</td>\n",
       "      <td>0.012532</td>\n",
       "      <td>0.067387</td>\n",
       "      <td>0.003055</td>\n",
       "      <td>0.000230</td>\n",
       "      <td>0.0</td>\n",
       "      <td>0.057471</td>\n",
       "      <td>0.170950</td>\n",
       "      <td>0.863636</td>\n",
       "      <td>0.833333</td>\n",
       "      <td>0.932432</td>\n",
       "      <td>0.000000</td>\n",
       "      <td>0.769231</td>\n",
       "      <td>0.210526</td>\n",
       "      <td>0.5</td>\n",
       "      <td>0.357143</td>\n",
       "      <td>0.0</td>\n",
       "      <td>0.666667</td>\n",
       "    </tr>\n",
       "    <tr>\n",
       "      <th>1</th>\n",
       "      <td>0.091892</td>\n",
       "      <td>0.010025</td>\n",
       "      <td>0.068065</td>\n",
       "      <td>0.003395</td>\n",
       "      <td>0.000251</td>\n",
       "      <td>0.0</td>\n",
       "      <td>0.057471</td>\n",
       "      <td>0.170950</td>\n",
       "      <td>0.409091</td>\n",
       "      <td>0.833333</td>\n",
       "      <td>0.932432</td>\n",
       "      <td>0.000000</td>\n",
       "      <td>0.769231</td>\n",
       "      <td>0.210526</td>\n",
       "      <td>0.5</td>\n",
       "      <td>0.428571</td>\n",
       "      <td>0.0</td>\n",
       "      <td>0.666667</td>\n",
       "    </tr>\n",
       "    <tr>\n",
       "      <th>2</th>\n",
       "      <td>0.091892</td>\n",
       "      <td>0.011749</td>\n",
       "      <td>0.068182</td>\n",
       "      <td>0.003706</td>\n",
       "      <td>0.000251</td>\n",
       "      <td>0.0</td>\n",
       "      <td>0.057471</td>\n",
       "      <td>0.170950</td>\n",
       "      <td>0.090909</td>\n",
       "      <td>0.833333</td>\n",
       "      <td>0.932432</td>\n",
       "      <td>0.000000</td>\n",
       "      <td>0.769231</td>\n",
       "      <td>0.210526</td>\n",
       "      <td>0.5</td>\n",
       "      <td>0.500000</td>\n",
       "      <td>0.0</td>\n",
       "      <td>0.666667</td>\n",
       "    </tr>\n",
       "    <tr>\n",
       "      <th>3</th>\n",
       "      <td>0.092793</td>\n",
       "      <td>0.005326</td>\n",
       "      <td>0.068644</td>\n",
       "      <td>0.003070</td>\n",
       "      <td>0.000230</td>\n",
       "      <td>0.0</td>\n",
       "      <td>0.057471</td>\n",
       "      <td>0.170950</td>\n",
       "      <td>0.363636</td>\n",
       "      <td>0.833333</td>\n",
       "      <td>0.932432</td>\n",
       "      <td>0.000000</td>\n",
       "      <td>0.769231</td>\n",
       "      <td>0.210526</td>\n",
       "      <td>0.5</td>\n",
       "      <td>1.000000</td>\n",
       "      <td>0.0</td>\n",
       "      <td>0.666667</td>\n",
       "    </tr>\n",
       "    <tr>\n",
       "      <th>4</th>\n",
       "      <td>0.092793</td>\n",
       "      <td>0.012791</td>\n",
       "      <td>0.067860</td>\n",
       "      <td>0.003122</td>\n",
       "      <td>0.000251</td>\n",
       "      <td>0.0</td>\n",
       "      <td>0.057471</td>\n",
       "      <td>0.170950</td>\n",
       "      <td>0.409091</td>\n",
       "      <td>0.833333</td>\n",
       "      <td>0.932432</td>\n",
       "      <td>0.000000</td>\n",
       "      <td>0.769231</td>\n",
       "      <td>0.210526</td>\n",
       "      <td>0.5</td>\n",
       "      <td>0.071429</td>\n",
       "      <td>0.0</td>\n",
       "      <td>0.666667</td>\n",
       "    </tr>\n",
       "    <tr>\n",
       "      <th>...</th>\n",
       "      <td>...</td>\n",
       "      <td>...</td>\n",
       "      <td>...</td>\n",
       "      <td>...</td>\n",
       "      <td>...</td>\n",
       "      <td>...</td>\n",
       "      <td>...</td>\n",
       "      <td>...</td>\n",
       "      <td>...</td>\n",
       "      <td>...</td>\n",
       "      <td>...</td>\n",
       "      <td>...</td>\n",
       "      <td>...</td>\n",
       "      <td>...</td>\n",
       "      <td>...</td>\n",
       "      <td>...</td>\n",
       "      <td>...</td>\n",
       "      <td>...</td>\n",
       "    </tr>\n",
       "    <tr>\n",
       "      <th>268250</th>\n",
       "      <td>0.095495</td>\n",
       "      <td>0.003414</td>\n",
       "      <td>0.066196</td>\n",
       "      <td>0.003823</td>\n",
       "      <td>0.000348</td>\n",
       "      <td>1.0</td>\n",
       "      <td>0.988506</td>\n",
       "      <td>0.815642</td>\n",
       "      <td>1.000000</td>\n",
       "      <td>0.222222</td>\n",
       "      <td>0.310811</td>\n",
       "      <td>0.666667</td>\n",
       "      <td>0.769231</td>\n",
       "      <td>0.052632</td>\n",
       "      <td>0.0</td>\n",
       "      <td>0.214286</td>\n",
       "      <td>0.8</td>\n",
       "      <td>0.333333</td>\n",
       "    </tr>\n",
       "    <tr>\n",
       "      <th>268251</th>\n",
       "      <td>0.095495</td>\n",
       "      <td>0.003447</td>\n",
       "      <td>0.066125</td>\n",
       "      <td>0.003427</td>\n",
       "      <td>0.000334</td>\n",
       "      <td>1.0</td>\n",
       "      <td>0.988506</td>\n",
       "      <td>0.815642</td>\n",
       "      <td>1.000000</td>\n",
       "      <td>0.222222</td>\n",
       "      <td>1.000000</td>\n",
       "      <td>0.666667</td>\n",
       "      <td>0.692308</td>\n",
       "      <td>0.947368</td>\n",
       "      <td>0.0</td>\n",
       "      <td>0.928571</td>\n",
       "      <td>0.0</td>\n",
       "      <td>0.333333</td>\n",
       "    </tr>\n",
       "    <tr>\n",
       "      <th>268252</th>\n",
       "      <td>0.104505</td>\n",
       "      <td>0.003133</td>\n",
       "      <td>0.067990</td>\n",
       "      <td>0.003303</td>\n",
       "      <td>0.000251</td>\n",
       "      <td>1.0</td>\n",
       "      <td>1.000000</td>\n",
       "      <td>0.347486</td>\n",
       "      <td>0.818182</td>\n",
       "      <td>0.222222</td>\n",
       "      <td>0.283784</td>\n",
       "      <td>0.666667</td>\n",
       "      <td>0.769231</td>\n",
       "      <td>0.052632</td>\n",
       "      <td>0.0</td>\n",
       "      <td>0.785714</td>\n",
       "      <td>0.4</td>\n",
       "      <td>0.333333</td>\n",
       "    </tr>\n",
       "    <tr>\n",
       "      <th>268253</th>\n",
       "      <td>0.104505</td>\n",
       "      <td>0.003373</td>\n",
       "      <td>0.068644</td>\n",
       "      <td>0.006949</td>\n",
       "      <td>0.000376</td>\n",
       "      <td>1.0</td>\n",
       "      <td>1.000000</td>\n",
       "      <td>0.347486</td>\n",
       "      <td>0.363636</td>\n",
       "      <td>0.222222</td>\n",
       "      <td>0.283784</td>\n",
       "      <td>0.666667</td>\n",
       "      <td>0.769231</td>\n",
       "      <td>0.052632</td>\n",
       "      <td>0.0</td>\n",
       "      <td>0.214286</td>\n",
       "      <td>0.6</td>\n",
       "      <td>0.333333</td>\n",
       "    </tr>\n",
       "    <tr>\n",
       "      <th>268254</th>\n",
       "      <td>0.104505</td>\n",
       "      <td>0.003211</td>\n",
       "      <td>0.068181</td>\n",
       "      <td>0.003047</td>\n",
       "      <td>0.000223</td>\n",
       "      <td>1.0</td>\n",
       "      <td>1.000000</td>\n",
       "      <td>0.347486</td>\n",
       "      <td>0.409091</td>\n",
       "      <td>0.222222</td>\n",
       "      <td>0.324324</td>\n",
       "      <td>0.666667</td>\n",
       "      <td>0.769231</td>\n",
       "      <td>0.052632</td>\n",
       "      <td>0.0</td>\n",
       "      <td>1.000000</td>\n",
       "      <td>0.0</td>\n",
       "      <td>0.333333</td>\n",
       "    </tr>\n",
       "  </tbody>\n",
       "</table>\n",
       "<p>268255 rows × 18 columns</p>\n",
       "</div>"
      ],
      "text/plain": [
       "              0         1         2         3         4    5         6   \\\n",
       "0       0.090090  0.012532  0.067387  0.003055  0.000230  0.0  0.057471   \n",
       "1       0.091892  0.010025  0.068065  0.003395  0.000251  0.0  0.057471   \n",
       "2       0.091892  0.011749  0.068182  0.003706  0.000251  0.0  0.057471   \n",
       "3       0.092793  0.005326  0.068644  0.003070  0.000230  0.0  0.057471   \n",
       "4       0.092793  0.012791  0.067860  0.003122  0.000251  0.0  0.057471   \n",
       "...          ...       ...       ...       ...       ...  ...       ...   \n",
       "268250  0.095495  0.003414  0.066196  0.003823  0.000348  1.0  0.988506   \n",
       "268251  0.095495  0.003447  0.066125  0.003427  0.000334  1.0  0.988506   \n",
       "268252  0.104505  0.003133  0.067990  0.003303  0.000251  1.0  1.000000   \n",
       "268253  0.104505  0.003373  0.068644  0.006949  0.000376  1.0  1.000000   \n",
       "268254  0.104505  0.003211  0.068181  0.003047  0.000223  1.0  1.000000   \n",
       "\n",
       "              7         8         9         10        11        12        13  \\\n",
       "0       0.170950  0.863636  0.833333  0.932432  0.000000  0.769231  0.210526   \n",
       "1       0.170950  0.409091  0.833333  0.932432  0.000000  0.769231  0.210526   \n",
       "2       0.170950  0.090909  0.833333  0.932432  0.000000  0.769231  0.210526   \n",
       "3       0.170950  0.363636  0.833333  0.932432  0.000000  0.769231  0.210526   \n",
       "4       0.170950  0.409091  0.833333  0.932432  0.000000  0.769231  0.210526   \n",
       "...          ...       ...       ...       ...       ...       ...       ...   \n",
       "268250  0.815642  1.000000  0.222222  0.310811  0.666667  0.769231  0.052632   \n",
       "268251  0.815642  1.000000  0.222222  1.000000  0.666667  0.692308  0.947368   \n",
       "268252  0.347486  0.818182  0.222222  0.283784  0.666667  0.769231  0.052632   \n",
       "268253  0.347486  0.363636  0.222222  0.283784  0.666667  0.769231  0.052632   \n",
       "268254  0.347486  0.409091  0.222222  0.324324  0.666667  0.769231  0.052632   \n",
       "\n",
       "         14        15   16        17  \n",
       "0       0.5  0.357143  0.0  0.666667  \n",
       "1       0.5  0.428571  0.0  0.666667  \n",
       "2       0.5  0.500000  0.0  0.666667  \n",
       "3       0.5  1.000000  0.0  0.666667  \n",
       "4       0.5  0.071429  0.0  0.666667  \n",
       "...     ...       ...  ...       ...  \n",
       "268250  0.0  0.214286  0.8  0.333333  \n",
       "268251  0.0  0.928571  0.0  0.333333  \n",
       "268252  0.0  0.785714  0.4  0.333333  \n",
       "268253  0.0  0.214286  0.6  0.333333  \n",
       "268254  0.0  1.000000  0.0  0.333333  \n",
       "\n",
       "[268255 rows x 18 columns]"
      ]
     },
     "execution_count": 31,
     "metadata": {},
     "output_type": "execute_result"
    }
   ],
   "source": [
    "sc = MinMaxScaler (feature_range = (0,1))\n",
    "train_data = sc.fit_transform(train_data)\n",
    "pd.DataFrame(train_data)"
   ]
  },
  {
   "cell_type": "code",
   "execution_count": 34,
   "id": "dac5a6b8",
   "metadata": {},
   "outputs": [],
   "source": [
    "som = MiniSom(x= 10, y= 10, input_len=18, sigma=1, learning_rate=0.05)\n",
    "som.random_weights_init(train_data)\n",
    "som.train_random(train_data, 100000)"
   ]
  },
  {
   "cell_type": "code",
   "execution_count": 35,
   "id": "498d5cb9",
   "metadata": {},
   "outputs": [],
   "source": [
    "quantization_errors = np.linalg.norm(som.quantization(train_data) - train_data, axis=1)\n",
    "error_threshold = np.percentile(quantization_errors, \n",
    "                               100*(1-outlier_percentage)+5)\n",
    "is_anomaly = quantization_errors > error_threshold"
   ]
  },
  {
   "cell_type": "code",
   "execution_count": 36,
   "id": "2fdfc043",
   "metadata": {},
   "outputs": [],
   "source": [
    "label = []\n",
    "for i in range(len(is_anomaly)):\n",
    "    if is_anomaly[i] == True:\n",
    "        label.append(1)\n",
    "    else:\n",
    "        label.append(0)"
   ]
  },
  {
   "cell_type": "code",
   "execution_count": 37,
   "id": "aa8170a3",
   "metadata": {},
   "outputs": [],
   "source": [
    "precision = precision_score(y, label, average='binary')\n",
    "recall = recall_score(y, label, average='binary')\n",
    "f1 = f1_score(y, label, average='binary')"
   ]
  },
  {
   "cell_type": "code",
   "execution_count": 38,
   "id": "dd2b7661",
   "metadata": {},
   "outputs": [
    {
     "data": {
      "text/plain": [
       "(0.478044165493689, 0.36506370156302315, 0.41398397378254703)"
      ]
     },
     "execution_count": 38,
     "metadata": {},
     "output_type": "execute_result"
    }
   ],
   "source": [
    "precision, recall, f1"
   ]
  },
  {
   "cell_type": "code",
   "execution_count": 22,
   "id": "1b4a5d55",
   "metadata": {},
   "outputs": [],
   "source": [
    "outlier_percentage = 0.21\n",
    "som = MiniSom(x= 10, y= 10, input_len=5, sigma=1, learning_rate=0.05)\n",
    "som.random_weights_init(som_train_data)\n",
    "som.train_random(som_train_data, 100000)\n",
    "quantization_errors = np.linalg.norm(som.quantization(som_train_data) - som_train_data, axis=1)\n",
    "error_threshold = np.percentile(quantization_errors, \n",
    "                               100*(1-outlier_percentage)+5)\n",
    "is_anomaly = quantization_errors > error_threshold"
   ]
  },
  {
   "cell_type": "code",
   "execution_count": null,
   "id": "ef74b528",
   "metadata": {},
   "outputs": [],
   "source": []
  }
 ],
 "metadata": {
  "kernelspec": {
   "display_name": "Python 3 (ipykernel)",
   "language": "python",
   "name": "python3"
  },
  "language_info": {
   "codemirror_mode": {
    "name": "ipython",
    "version": 3
   },
   "file_extension": ".py",
   "mimetype": "text/x-python",
   "name": "python",
   "nbconvert_exporter": "python",
   "pygments_lexer": "ipython3",
   "version": "3.8.12"
  }
 },
 "nbformat": 4,
 "nbformat_minor": 5
}
