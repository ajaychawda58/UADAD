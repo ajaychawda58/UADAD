{
 "cells": [
  {
   "cell_type": "code",
   "execution_count": 61,
   "id": "1f389eef",
   "metadata": {},
   "outputs": [],
   "source": [
    "import pandas as pd\n",
    "import numpy as np\n",
    "import matplotlib.pyplot as plt\n",
    "from utils import *"
   ]
  },
  {
   "cell_type": "code",
   "execution_count": 2,
   "id": "6d6f9e74",
   "metadata": {},
   "outputs": [],
   "source": [
    "from sklearn.ensemble import IsolationForest\n",
    "from sklearn.neighbors import LocalOutlierFactor\n",
    "from sklearn.svm import OneClassSVM\n",
    "from sklearn.ensemble import GradientBoostingClassifier\n",
    "from sklearn.ensemble import RandomForestClassifier\n",
    "from sklearn.model_selection import train_test_split"
   ]
  },
  {
   "cell_type": "code",
   "execution_count": 3,
   "id": "f1209cd0",
   "metadata": {},
   "outputs": [],
   "source": [
    "vc_categorical_cols = ['Maker', 'Reg_year', ' Genmodel', 'Color', 'Bodytype', 'Engin_size', 'Gearbox', 'Fuel_type',\n",
    "                        'Seat_num', 'Door_num', 'issue', 'issue_id', 'repair_complexity']\n",
    "vi_categorical_cols = ['Make', 'AccidentArea',\t'Sex',\t'MaritalStatus', 'Age',\t'Fault', 'PolicyType',\n",
    "                    \t'VehicleCategory',\t'Deductible',\t'Days_Policy_Accident',\t'Days_Policy_Claim',\n",
    "            \t        'AgeOfVehicle',  'AgeOfPolicyHolder', 'PoliceReportFiled',\t'WitnessPresent',\n",
    "                \t   'AgentType',\t'NumberOfSuppliments',\t'AddressChange_Claim', 'VehiclePrice',\n",
    "                       'PastNumberOfClaims', 'NumberOfCars', 'BasePolicy', 'Month', 'MonthClaimed',\n",
    "                       'DayOfWeek', 'DayOfWeekClaimed']\n",
    "\n",
    "ci_categorical_cols = ['policy_state', 'umbrella_limit', 'insured_sex', 'insured_education_level',\n",
    "    \t'insured_occupation', 'insured_hobbies', 'insured_relationship', 'incident_type',\n",
    "        'collision_type', 'incident_severity', 'authorities_contacted', 'incident_state', 'incident_city',\t\n",
    "        'property_damage', 'police_report_available', 'auto_make', 'auto_model']\n",
    "ic_categorical_cols = ['ps_ind_02_cat','ps_ind_04_cat', 'ps_ind_05_cat', 'ps_car_01_cat', 'ps_car_02_cat',\n",
    "       'ps_car_03_cat', 'ps_car_04_cat', 'ps_car_05_cat', 'ps_car_06_cat',\n",
    "       'ps_car_07_cat', 'ps_car_08_cat', 'ps_car_09_cat', 'ps_car_10_cat',\n",
    "       'ps_car_11_cat']\n",
    "\n",
    "vc_cols_to_remove = [' Genmodel_ID', 'Adv_year', 'Adv_month', 'Adv_day', 'breakdown_date', 'repair_date', 'category_anomaly']\n",
    "ci_cols_to_remove = ['policy_number', 'policy_bind_date', 'policy_csl', 'incident_location', 'incident_date', '_c39']\n",
    "ic_cols_to_remove = ['id', 'target']\n",
    "\n"
   ]
  },
  {
   "cell_type": "markdown",
   "id": "502f1aa3",
   "metadata": {},
   "source": [
    "**Isolation Forest** "
   ]
  },
  {
   "cell_type": "code",
   "execution_count": 4,
   "id": "7d3e4de3",
   "metadata": {},
   "outputs": [],
   "source": [
    "def isolation_forest(train_data, train_label, test_data, test_label, n_estimators = 400):\n",
    "    clf = IsolationForest(random_state=0, n_estimators=n_estimators).fit(train_data)\n",
    "    result = clf.predict(test_data)\n",
    "    result = pd.DataFrame(result)\n",
    "    result.replace(to_replace=1, value=0, inplace=True)\n",
    "    result.replace(to_replace=-1, value=1, inplace=True)\n",
    "    p, r, f, a = get_scores(result, test_label)\n",
    "    return p,r,f,a\n",
    "    "
   ]
  },
  {
   "cell_type": "markdown",
   "id": "17c41b3e",
   "metadata": {},
   "source": [
    "**LOF**"
   ]
  },
  {
   "cell_type": "code",
   "execution_count": 5,
   "id": "e4534114",
   "metadata": {},
   "outputs": [],
   "source": [
    "def local_outlier_factor(train_data, train_label, test_data, test_label, n_neighbors = 100):\n",
    "    clf = LocalOutlierFactor(n_neighbors=n_neighbors, novelty=True).fit(train_data)\n",
    "    result = clf.predict(test_data)\n",
    "    result = pd.DataFrame(result)\n",
    "    result.replace(to_replace=1, value=0, inplace=True)\n",
    "    result.replace(to_replace=-1, value=1, inplace=True)\n",
    "    p, r, f, a = get_scores(result, test_label)\n",
    "    return p,r,f,a"
   ]
  },
  {
   "cell_type": "markdown",
   "id": "f325f9aa",
   "metadata": {},
   "source": [
    "**One Class SVM**"
   ]
  },
  {
   "cell_type": "code",
   "execution_count": 6,
   "id": "d93ccc1c",
   "metadata": {},
   "outputs": [],
   "source": [
    "def one_class_svm(train_data, train_label, test_data, test_label, kernel = 'rbf'):\n",
    "    clf = OneClassSVM(kernel=kernel, gamma='auto', verbose=True).fit(train_data)\n",
    "    result = clf.predict(test_data)\n",
    "    result = pd.DataFrame(result)\n",
    "    result.replace(to_replace=1, value=0, inplace=True)\n",
    "    result.replace(to_replace=-1, value=1, inplace=True)\n",
    "    p, r, f, a = get_scores(result, test_label)\n",
    "    return p,r,f,a"
   ]
  },
  {
   "cell_type": "markdown",
   "id": "3af8fc19",
   "metadata": {},
   "source": [
    "**Gradient Boosting**"
   ]
  },
  {
   "cell_type": "code",
   "execution_count": 7,
   "id": "a3f16a51",
   "metadata": {},
   "outputs": [],
   "source": [
    "def gradient_boosting(train_data, train_label, test_data, test_label, n_estimators = 100):\n",
    "    clf = GradientBoostingClassifier(n_estimators=100, learning_rate=1.0,\n",
    "            max_depth=1, random_state=0).fit(train_data, train_label)\n",
    "    result = clf.predict(test_data)\n",
    "    result = pd.DataFrame(result)\n",
    "    p, r, f, a = get_scores(result, test_label)\n",
    "    return p,r,f,a"
   ]
  },
  {
   "cell_type": "markdown",
   "id": "b32b07a3",
   "metadata": {},
   "source": [
    "**Random Forest**"
   ]
  },
  {
   "cell_type": "code",
   "execution_count": 8,
   "id": "1190a97e",
   "metadata": {},
   "outputs": [],
   "source": [
    "def random_forest(train_data, train_label, test_data, test_label, max_depth = 2):\n",
    "    clf = RandomForestClassifier(max_depth=max_depth, random_state=0)\n",
    "    clf.fit(train_data, train_label)\n",
    "    result = clf.predict(test_data)\n",
    "    result = pd.DataFrame(result)\n",
    "    p, r, f, a = get_scores(result, test_label)\n",
    "    return p,r,f,a"
   ]
  },
  {
   "cell_type": "markdown",
   "id": "6f04dd9b",
   "metadata": {},
   "source": [
    "**Label Encoding**"
   ]
  },
  {
   "cell_type": "code",
   "execution_count": 4,
   "id": "8306f4a3",
   "metadata": {},
   "outputs": [],
   "source": [
    "data_vc = load_data('../../data/vehicle_claims/train_label.csv')\n",
    "data_vi = load_data('../../data/vehicle_insurance/train_label.csv')\n",
    "data_ci = load_data('../../data/car_insurance/train_label.csv')\n",
    "data_ic = load_data('../../data/insurance_claim_kaggle/train_label.csv')"
   ]
  },
  {
   "cell_type": "code",
   "execution_count": 5,
   "id": "ca83417d",
   "metadata": {},
   "outputs": [],
   "source": [
    "data_ci_test = load_data('../../data/car_insurance/test_label.csv')\n",
    "data_vi_test = load_data('../../data/vehicle_insurance/test_label.csv')\n",
    "data_vc_test = load_data('../../data/vehicle_claims/test_label.csv')\n",
    "data_ic_test = load_data('../../data/insurance_claim_kaggle/test_label.csv')"
   ]
  },
  {
   "cell_type": "code",
   "execution_count": 6,
   "id": "6d4800ca",
   "metadata": {},
   "outputs": [],
   "source": [
    "label_vc = load_data('../../data/vehicle_claims/train_label_Y.csv')\n",
    "label_vi = load_data('../../data/vehicle_insurance/train_label_Y.csv')\n",
    "label_ci = load_data('../../data/car_insurance/train_label_Y.csv')\n",
    "label_ic = load_data('../../data/insurance_claim_kaggle/train_label_Y.csv')"
   ]
  },
  {
   "cell_type": "code",
   "execution_count": 7,
   "id": "d90f282a",
   "metadata": {},
   "outputs": [],
   "source": [
    "label_vc_test = load_data('../../data/vehicle_claims/test_label_Y.csv')\n",
    "label_vi_test = load_data('../../data/vehicle_insurance/test_label_Y.csv')\n",
    "label_ci_test = load_data('../../data/car_insurance/test_label_Y.csv')\n",
    "label_ic_test = load_data('../../data/insurance_claim_kaggle/test_label_Y.csv')"
   ]
  },
  {
   "cell_type": "code",
   "execution_count": 62,
   "id": "094e65a7",
   "metadata": {},
   "outputs": [],
   "source": [
    "clf = IsolationForest(random_state=0, n_estimators=400).fit(data_ci)"
   ]
  },
  {
   "cell_type": "code",
   "execution_count": 70,
   "id": "97e89414",
   "metadata": {},
   "outputs": [],
   "source": [
    "score = clf.score_samples(data_ci_test)"
   ]
  },
  {
   "cell_type": "code",
   "execution_count": 71,
   "id": "3fd540be",
   "metadata": {},
   "outputs": [
    {
     "name": "stdout",
     "output_type": "stream",
     "text": [
      "-0.5076192066824403\n"
     ]
    }
   ],
   "source": [
    "thresh = np.quantile(score, 0.825)\n",
    "print(thresh)"
   ]
  },
  {
   "cell_type": "code",
   "execution_count": 73,
   "id": "779a22ae",
   "metadata": {},
   "outputs": [],
   "source": [
    "auc = metrics.roc_auc_score(label_ci_test['Label'], score)"
   ]
  },
  {
   "cell_type": "code",
   "execution_count": 65,
   "id": "5ff29f9a",
   "metadata": {},
   "outputs": [],
   "source": [
    "y = [0 if scores > thresh else 1 for scores in score]"
   ]
  },
  {
   "cell_type": "code",
   "execution_count": 68,
   "id": "434e9eb3",
   "metadata": {},
   "outputs": [],
   "source": [
    "p, r, f, a = get_scores(label_ci_test['Label'], y)"
   ]
  },
  {
   "cell_type": "code",
   "execution_count": 69,
   "id": "0f00cd71",
   "metadata": {},
   "outputs": [
    {
     "data": {
      "text/plain": [
       "(0.6257938023578541,\n",
       " 0.3566666666666667,\n",
       " 0.3241724636220048,\n",
       " 0.5129860209304102)"
      ]
     },
     "execution_count": 69,
     "metadata": {},
     "output_type": "execute_result"
    }
   ],
   "source": [
    "p, r, f, a"
   ]
  },
  {
   "cell_type": "code",
   "execution_count": 59,
   "id": "32bee215",
   "metadata": {},
   "outputs": [],
   "source": [
    "fpr, tpr, thresholds = metrics.roc_curve(y, label_ci_test['Label'], pos_label=1)\n",
    "auc = metrics.roc_auc_score(y, label_ci_test['Label'])"
   ]
  },
  {
   "cell_type": "code",
   "execution_count": 60,
   "id": "a9f84cb9",
   "metadata": {},
   "outputs": [
    {
     "data": {
      "text/plain": [
       "0.5129860209304102"
      ]
     },
     "execution_count": 60,
     "metadata": {},
     "output_type": "execute_result"
    }
   ],
   "source": [
    "auc"
   ]
  },
  {
   "cell_type": "code",
   "execution_count": null,
   "id": "f48ba478",
   "metadata": {},
   "outputs": [],
   "source": []
  },
  {
   "cell_type": "code",
   "execution_count": 50,
   "id": "5fd54cbd",
   "metadata": {},
   "outputs": [],
   "source": [
    "result = clf.predict(data_ci_test)\n",
    "result = pd.DataFrame(result)\n",
    "result.replace(to_replace=1, value=0, inplace=True)\n",
    "result.replace(to_replace=-1, value=1, inplace=True)\n",
    "p, r, f, a = get_scores(result,label_ci_test['Label'] )"
   ]
  },
  {
   "cell_type": "code",
   "execution_count": 51,
   "id": "63498ad7",
   "metadata": {},
   "outputs": [
    {
     "data": {
      "text/plain": [
       "(0.8645227272727273, 0.32, 0.4018023976849938, 0.5164772727272727)"
      ]
     },
     "execution_count": 51,
     "metadata": {},
     "output_type": "execute_result"
    }
   ],
   "source": [
    "p,r,f,a"
   ]
  },
  {
   "cell_type": "code",
   "execution_count": 52,
   "id": "2b587572",
   "metadata": {},
   "outputs": [],
   "source": [
    "fpr, tpr, thresholds = metrics.roc_curve(result, label_ci_test['Label'], pos_label=1)\n",
    "auc = metrics.auc(fpr, tpr)"
   ]
  },
  {
   "cell_type": "code",
   "execution_count": 53,
   "id": "6886892b",
   "metadata": {},
   "outputs": [
    {
     "data": {
      "text/plain": [
       "0.540707467714767"
      ]
     },
     "execution_count": 53,
     "metadata": {},
     "output_type": "execute_result"
    }
   ],
   "source": [
    "auc"
   ]
  },
  {
   "cell_type": "code",
   "execution_count": 141,
   "id": "709d21fa",
   "metadata": {},
   "outputs": [
    {
     "name": "stderr",
     "output_type": "stream",
     "text": [
      "C:\\Users\\ajayc\\anaconda3\\envs\\thesis\\lib\\site-packages\\sklearn\\base.py:450: UserWarning: X does not have valid feature names, but LocalOutlierFactor was fitted with feature names\n",
      "  warnings.warn(\n",
      "C:\\Users\\ajayc\\anaconda3\\envs\\thesis\\lib\\site-packages\\sklearn\\ensemble\\_gb.py:494: DataConversionWarning: A column-vector y was passed when a 1d array was expected. Please change the shape of y to (n_samples, ), for example using ravel().\n",
      "  y = column_or_1d(y, warn=True)\n"
     ]
    },
    {
     "name": "stdout",
     "output_type": "stream",
     "text": [
      "[LibSVM]"
     ]
    },
    {
     "name": "stderr",
     "output_type": "stream",
     "text": [
      "C:\\Users\\ajayc\\AppData\\Local\\Temp/ipykernel_2164/1119129790.py:3: DataConversionWarning: A column-vector y was passed when a 1d array was expected. Please change the shape of y to (n_samples,), for example using ravel().\n",
      "  clf.fit(train_data, train_label)\n"
     ]
    }
   ],
   "source": [
    "isof = isolation_forest(data_ci, label_ci, data_ci_test, label_ci_test, 1000)\n",
    "lof = local_outlier_factor(data_ci, label_ci, data_ci_test, label_ci_test, 2)\n",
    "ocsvm = one_class_svm(data_ci, label_ci, data_ci_test, label_ci_test, 'linear')\n",
    "gb = gradient_boosting(data_ci, label_ci, data_ci_test, label_ci_test, 400)\n",
    "rf = random_forest(data_ci, label_ci, data_ci_test, label_ci_test, 200)"
   ]
  },
  {
   "cell_type": "code",
   "execution_count": 142,
   "id": "ab878f10",
   "metadata": {},
   "outputs": [],
   "source": [
    "ci_label_encoding = [isof, lof, ocsvm, gb, rf]"
   ]
  },
  {
   "cell_type": "code",
   "execution_count": 143,
   "id": "fcd184d5",
   "metadata": {},
   "outputs": [
    {
     "name": "stderr",
     "output_type": "stream",
     "text": [
      "C:\\Users\\ajayc\\anaconda3\\envs\\thesis\\lib\\site-packages\\sklearn\\base.py:450: UserWarning: X does not have valid feature names, but LocalOutlierFactor was fitted with feature names\n",
      "  warnings.warn(\n"
     ]
    },
    {
     "name": "stdout",
     "output_type": "stream",
     "text": [
      "[LibSVM]"
     ]
    },
    {
     "name": "stderr",
     "output_type": "stream",
     "text": [
      "C:\\Users\\ajayc\\anaconda3\\envs\\thesis\\lib\\site-packages\\sklearn\\ensemble\\_gb.py:494: DataConversionWarning: A column-vector y was passed when a 1d array was expected. Please change the shape of y to (n_samples, ), for example using ravel().\n",
      "  y = column_or_1d(y, warn=True)\n",
      "C:\\Users\\ajayc\\AppData\\Local\\Temp/ipykernel_2164/1119129790.py:3: DataConversionWarning: A column-vector y was passed when a 1d array was expected. Please change the shape of y to (n_samples,), for example using ravel().\n",
      "  clf.fit(train_data, train_label)\n"
     ]
    }
   ],
   "source": [
    "isof = isolation_forest(data_vi, label_vi,data_vi_test, label_vi_test, 1000)\n",
    "lof = local_outlier_factor(data_vi, label_vi,data_vi_test, label_vi_test, 3)\n",
    "ocsvm = one_class_svm(data_vi, label_vi,data_vi_test, label_vi_test, 'linear')\n",
    "gb = gradient_boosting(data_vi, label_vi,data_vi_test, label_vi_test, 400)\n",
    "rf = random_forest(data_vi, label_vi, data_vi_test, label_vi_test, 200)"
   ]
  },
  {
   "cell_type": "code",
   "execution_count": 144,
   "id": "7e2c7cdd",
   "metadata": {},
   "outputs": [],
   "source": [
    "vi_label_encoding = [isof, lof, ocsvm, gb, rf]"
   ]
  },
  {
   "cell_type": "code",
   "execution_count": 145,
   "id": "cbb979fb",
   "metadata": {},
   "outputs": [
    {
     "data": {
      "text/plain": [
       "[(0.8434090909090909,\n",
       "  0.32666666666666666,\n",
       "  0.39977142857142856,\n",
       "  0.5170454545454546),\n",
       " (0.8403636363636363, 0.68, 0.7480893300248139, 0.47954545454545455),\n",
       " (0.43100000000000005, 0.46, 0.4291599020125847, 0.42500000000000004),\n",
       " (0.7980454545454545,\n",
       "  0.7533333333333333,\n",
       "  0.7703824226506951,\n",
       "  0.6329545454545454),\n",
       " (0.8389090909090909, 0.72, 0.7662295081967213, 0.5465909090909091)]"
      ]
     },
     "execution_count": 145,
     "metadata": {},
     "output_type": "execute_result"
    }
   ],
   "source": [
    "ci_label_encoding"
   ]
  },
  {
   "cell_type": "code",
   "execution_count": 146,
   "id": "b5aa1d28",
   "metadata": {},
   "outputs": [
    {
     "data": {
      "text/plain": [
       "[(0.669522600957939,\n",
       "  0.7518374405533939,\n",
       "  0.6936515966073963,\n",
       "  0.5219001200305532),\n",
       " (0.9874037504087234,\n",
       "  0.9332036316472114,\n",
       "  0.959287304379996,\n",
       "  0.5021532753791874),\n",
       " (0.5229450930157767,\n",
       "  0.5045395590142672,\n",
       "  0.38677509518644176,\n",
       "  0.522908861649632),\n",
       " (0.9957771168593704,\n",
       "  0.9366623432771293,\n",
       "  0.9652118283303335,\n",
       "  0.5007177584597291),\n",
       " (0.9997845890125227,\n",
       "  0.9386078685689581,\n",
       "  0.9681169719246988,\n",
       "  0.5017543859649123)]"
      ]
     },
     "execution_count": 146,
     "metadata": {},
     "output_type": "execute_result"
    }
   ],
   "source": [
    "vi_label_encoding"
   ]
  },
  {
   "cell_type": "code",
   "execution_count": 196,
   "id": "346491ec",
   "metadata": {},
   "outputs": [
    {
     "name": "stderr",
     "output_type": "stream",
     "text": [
      "C:\\Users\\ajayc\\anaconda3\\envs\\thesis\\lib\\site-packages\\sklearn\\base.py:450: UserWarning: X does not have valid feature names, but LocalOutlierFactor was fitted with feature names\n",
      "  warnings.warn(\n"
     ]
    },
    {
     "name": "stdout",
     "output_type": "stream",
     "text": [
      "[LibSVM]"
     ]
    },
    {
     "name": "stderr",
     "output_type": "stream",
     "text": [
      "C:\\Users\\ajayc\\anaconda3\\envs\\thesis\\lib\\site-packages\\sklearn\\ensemble\\_gb.py:494: DataConversionWarning: A column-vector y was passed when a 1d array was expected. Please change the shape of y to (n_samples, ), for example using ravel().\n",
      "  y = column_or_1d(y, warn=True)\n",
      "C:\\Users\\ajayc\\AppData\\Local\\Temp/ipykernel_2164/1119129790.py:3: DataConversionWarning: A column-vector y was passed when a 1d array was expected. Please change the shape of y to (n_samples,), for example using ravel().\n",
      "  clf.fit(train_data, train_label)\n"
     ]
    }
   ],
   "source": [
    "isof = isolation_forest(data_vc, label_vc,data_vc_test, label_vc_test, 1000)\n",
    "lof = local_outlier_factor(data_vc, label_vc,data_vc_test, label_vc_test, 3)\n",
    "ocsvm = one_class_svm(data_vc, label_vc,data_vc_test, label_vc_test, 'linear')\n",
    "gb = gradient_boosting(data_vc, label_vc,data_vc_test, label_vc_test, 400)\n",
    "rf = random_forest(data_vc, label_vc, data_vc_test, label_vc_test, 200)"
   ]
  },
  {
   "cell_type": "code",
   "execution_count": 197,
   "id": "c6ff71cf",
   "metadata": {},
   "outputs": [],
   "source": [
    "vc_label_encoding = [isof, lof, ocsvm, gb, rf]"
   ]
  },
  {
   "cell_type": "code",
   "execution_count": 198,
   "id": "12cbe66e",
   "metadata": {},
   "outputs": [
    {
     "data": {
      "text/plain": [
       "[(0.7711953903529698,\n",
       "  0.7517054562173043,\n",
       "  0.7605439335538443,\n",
       "  0.5963912813609704),\n",
       " (0.8754488838195098,\n",
       "  0.7653491059557389,\n",
       "  0.8113900611525643,\n",
       "  0.5309201685209731),\n",
       " (0.5197466467461956,\n",
       "  0.511239236055022,\n",
       "  0.4669443664608268,\n",
       "  0.5196522689042293),\n",
       " (0.9717205887206912,\n",
       "  0.967705058588168,\n",
       "  0.9685833253204285,\n",
       "  0.9269682158741501),\n",
       " (0.9970224692691712,\n",
       "  0.996980503746412,\n",
       "  0.9969883431368645,\n",
       "  0.9929030879022537)]"
      ]
     },
     "execution_count": 198,
     "metadata": {},
     "output_type": "execute_result"
    }
   ],
   "source": [
    "vc_label_encoding"
   ]
  },
  {
   "cell_type": "code",
   "execution_count": 147,
   "id": "45bffcca",
   "metadata": {},
   "outputs": [
    {
     "name": "stderr",
     "output_type": "stream",
     "text": [
      "C:\\Users\\ajayc\\anaconda3\\envs\\thesis\\lib\\site-packages\\sklearn\\base.py:450: UserWarning: X does not have valid feature names, but LocalOutlierFactor was fitted with feature names\n",
      "  warnings.warn(\n"
     ]
    },
    {
     "name": "stdout",
     "output_type": "stream",
     "text": [
      "[LibSVM]"
     ]
    },
    {
     "name": "stderr",
     "output_type": "stream",
     "text": [
      "C:\\Users\\ajayc\\anaconda3\\envs\\thesis\\lib\\site-packages\\sklearn\\ensemble\\_gb.py:494: DataConversionWarning: A column-vector y was passed when a 1d array was expected. Please change the shape of y to (n_samples, ), for example using ravel().\n",
      "  y = column_or_1d(y, warn=True)\n",
      "C:\\Users\\ajayc\\AppData\\Local\\Temp/ipykernel_2164/1119129790.py:3: DataConversionWarning: A column-vector y was passed when a 1d array was expected. Please change the shape of y to (n_samples,), for example using ravel().\n",
      "  clf.fit(train_data, train_label)\n"
     ]
    }
   ],
   "source": [
    "isof = isolation_forest(data_ic, label_ic,data_ic_test, label_ic_test, 1000)\n",
    "lof = local_outlier_factor(data_ic, label_ic,data_ic_test, label_ic_test, 3)\n",
    "ocsvm = one_class_svm(data_ic, label_ic,data_ic_test, label_ic_test, 'linear')\n",
    "gb = gradient_boosting(data_ic, label_ic,data_ic_test, label_ic_test, 400)\n",
    "rf = random_forest(data_ic, label_ic, data_ic_test, label_ic_test, 200)"
   ]
  },
  {
   "cell_type": "code",
   "execution_count": 148,
   "id": "3b905057",
   "metadata": {},
   "outputs": [],
   "source": [
    "ic_label_encoding = [isof, lof, ocsvm, gb, rf]"
   ]
  },
  {
   "cell_type": "code",
   "execution_count": 149,
   "id": "1fa8418e",
   "metadata": {},
   "outputs": [
    {
     "data": {
      "text/plain": [
       "[(0.6728455330416216,\n",
       "  0.7277576274802645,\n",
       "  0.6899885847425222,\n",
       "  0.5515382561802552),\n",
       " (0.9925772217798615,\n",
       "  0.885214422871773,\n",
       "  0.9355732927865607,\n",
       "  0.5003801591115383),\n",
       " (0.5121895718005051,\n",
       "  0.5051561055401464,\n",
       "  0.4174329722673293,\n",
       "  0.5121966697939787),\n",
       " (0.998287409447594,\n",
       "  0.8877035772704645,\n",
       "  0.9395590589564005,\n",
       "  0.5012268979352112),\n",
       " (0.9996976059883607,\n",
       "  0.8878458146646754,\n",
       "  0.9404576612070575,\n",
       "  0.4999199102995355)]"
      ]
     },
     "execution_count": 149,
     "metadata": {},
     "output_type": "execute_result"
    }
   ],
   "source": [
    "ic_label_encoding"
   ]
  },
  {
   "cell_type": "markdown",
   "id": "b13d3749",
   "metadata": {},
   "source": [
    "**One Hot Encoding**"
   ]
  },
  {
   "cell_type": "code",
   "execution_count": 9,
   "id": "64df77d4",
   "metadata": {},
   "outputs": [],
   "source": [
    "data_vc = load_data('../../data/vehicle_claims/train_OH.csv')\n",
    "data_vi = load_data('../../data/vehicle_insurance/train_OH.csv')\n",
    "data_ci = load_data('../../data/car_insurance/train_OH.csv')\n",
    "data_ic = load_data('../../data/insurance_claim_kaggle/train_OH.csv')"
   ]
  },
  {
   "cell_type": "code",
   "execution_count": 10,
   "id": "874ebee9",
   "metadata": {},
   "outputs": [],
   "source": [
    "data_ci_test = load_data('../../data/car_insurance/test_OH.csv')\n",
    "data_vi_test = load_data('../../data/vehicle_insurance/test_OH.csv')\n",
    "data_vc_test = load_data('../../data/vehicle_claims/test_OH.csv')\n",
    "data_ic_test = load_data('../../data/insurance_claim_kaggle/test_OH.csv')"
   ]
  },
  {
   "cell_type": "code",
   "execution_count": 11,
   "id": "2185c3e1",
   "metadata": {},
   "outputs": [],
   "source": [
    "label_vc = load_data('../../data/vehicle_claims/train_OH_Y.csv')\n",
    "label_vi = load_data('../../data/vehicle_insurance/train_OH_Y.csv')\n",
    "label_ci = load_data('../../data/car_insurance/train_OH_Y.csv')\n",
    "label_ic = load_data('../../data/insurance_claim_kaggle/train_OH_Y.csv')"
   ]
  },
  {
   "cell_type": "code",
   "execution_count": 12,
   "id": "9c315007",
   "metadata": {},
   "outputs": [],
   "source": [
    "label_vc_test = load_data('../../data/vehicle_claims/test_OH_Y.csv')\n",
    "label_vi_test = load_data('../../data/vehicle_insurance/test_OH_Y.csv')\n",
    "label_ci_test = load_data('../../data/car_insurance/test_OH_Y.csv')\n",
    "label_ic_test = load_data('../../data/insurance_claim_kaggle/test_OH_Y.csv')"
   ]
  },
  {
   "cell_type": "code",
   "execution_count": 156,
   "id": "3a07ed86",
   "metadata": {},
   "outputs": [
    {
     "name": "stderr",
     "output_type": "stream",
     "text": [
      "C:\\Users\\ajayc\\anaconda3\\envs\\thesis\\lib\\site-packages\\sklearn\\base.py:450: UserWarning: X does not have valid feature names, but LocalOutlierFactor was fitted with feature names\n",
      "  warnings.warn(\n",
      "C:\\Users\\ajayc\\anaconda3\\envs\\thesis\\lib\\site-packages\\sklearn\\ensemble\\_gb.py:494: DataConversionWarning: A column-vector y was passed when a 1d array was expected. Please change the shape of y to (n_samples, ), for example using ravel().\n",
      "  y = column_or_1d(y, warn=True)\n"
     ]
    },
    {
     "name": "stdout",
     "output_type": "stream",
     "text": [
      "[LibSVM]"
     ]
    },
    {
     "name": "stderr",
     "output_type": "stream",
     "text": [
      "C:\\Users\\ajayc\\AppData\\Local\\Temp/ipykernel_2164/1119129790.py:3: DataConversionWarning: A column-vector y was passed when a 1d array was expected. Please change the shape of y to (n_samples,), for example using ravel().\n",
      "  clf.fit(train_data, train_label)\n"
     ]
    }
   ],
   "source": [
    "isof = isolation_forest(data_ci, label_ci, data_ci_test, label_ci_test, 1000)\n",
    "lof = local_outlier_factor(data_ci, label_ci, data_ci_test, label_ci_test, 2)\n",
    "ocsvm = one_class_svm(data_ci, label_ci, data_ci_test, label_ci_test, 'linear')\n",
    "gb = gradient_boosting(data_ci, label_ci, data_ci_test, label_ci_test, 400)\n",
    "rf = random_forest(data_ci, label_ci, data_ci_test, label_ci_test, 200)"
   ]
  },
  {
   "cell_type": "code",
   "execution_count": 157,
   "id": "046bbd62",
   "metadata": {},
   "outputs": [],
   "source": [
    "ci_one_hot_encoding = [isof, lof, ocsvm, gb, rf]"
   ]
  },
  {
   "cell_type": "code",
   "execution_count": 158,
   "id": "f8c5b95d",
   "metadata": {},
   "outputs": [
    {
     "data": {
      "text/plain": [
       "[(1.0, 0.7333333333333333, 0.846153846153846, 0.5),\n",
       " (0.8403636363636363, 0.68, 0.7480893300248139, 0.47954545454545455),\n",
       " (0.43100000000000005, 0.46, 0.4291599020125847, 0.42500000000000004),\n",
       " (0.7751136363636364, 0.75, 0.7602102492693302, 0.646590909090909),\n",
       " (0.808125, 0.7366666666666667, 0.7638315789473684, 0.5937500000000001)]"
      ]
     },
     "execution_count": 158,
     "metadata": {},
     "output_type": "execute_result"
    }
   ],
   "source": [
    "ci_one_hot_encoding"
   ]
  },
  {
   "cell_type": "code",
   "execution_count": 159,
   "id": "cc6a794d",
   "metadata": {},
   "outputs": [
    {
     "name": "stderr",
     "output_type": "stream",
     "text": [
      "C:\\Users\\ajayc\\anaconda3\\envs\\thesis\\lib\\site-packages\\sklearn\\base.py:450: UserWarning: X does not have valid feature names, but LocalOutlierFactor was fitted with feature names\n",
      "  warnings.warn(\n"
     ]
    },
    {
     "name": "stdout",
     "output_type": "stream",
     "text": [
      "[LibSVM]"
     ]
    },
    {
     "name": "stderr",
     "output_type": "stream",
     "text": [
      "C:\\Users\\ajayc\\anaconda3\\envs\\thesis\\lib\\site-packages\\sklearn\\ensemble\\_gb.py:494: DataConversionWarning: A column-vector y was passed when a 1d array was expected. Please change the shape of y to (n_samples, ), for example using ravel().\n",
      "  y = column_or_1d(y, warn=True)\n",
      "C:\\Users\\ajayc\\AppData\\Local\\Temp/ipykernel_2164/1119129790.py:3: DataConversionWarning: A column-vector y was passed when a 1d array was expected. Please change the shape of y to (n_samples,), for example using ravel().\n",
      "  clf.fit(train_data, train_label)\n"
     ]
    }
   ],
   "source": [
    "isof = isolation_forest(data_vi, label_vi,data_vi_test, label_vi_test, 1000)\n",
    "lof = local_outlier_factor(data_vi, label_vi,data_vi_test, label_vi_test, 3)\n",
    "ocsvm = one_class_svm(data_vi, label_vi,data_vi_test, label_vi_test, 'linear')\n",
    "gb = gradient_boosting(data_vi, label_vi,data_vi_test, label_vi_test, 400)\n",
    "rf = random_forest(data_vi, label_vi, data_vi_test, label_vi_test, 200)"
   ]
  },
  {
   "cell_type": "code",
   "execution_count": 160,
   "id": "a7366baa",
   "metadata": {},
   "outputs": [],
   "source": [
    "vi_one_hot_encoding = [isof, lof, ocsvm, gb, rf]"
   ]
  },
  {
   "cell_type": "code",
   "execution_count": 161,
   "id": "76d412d8",
   "metadata": {},
   "outputs": [
    {
     "data": {
      "text/plain": [
       "[(1.0, 0.9383916990920882, 0.9682167949146872, 0.5),\n",
       " (0.999553518652473,\n",
       "  0.9381755296152183,\n",
       "  0.967892443557971,\n",
       "  0.4998848191660908),\n",
       " (0.5229450930157767,\n",
       "  0.5045395590142672,\n",
       "  0.38677509518644176,\n",
       "  0.522908861649632),\n",
       " (0.9962219931657642,\n",
       "  0.9368785127539991,\n",
       "  0.9655345652768497,\n",
       "  0.5008329392936384),\n",
       " (0.9997845890125227,\n",
       "  0.9386078685689581,\n",
       "  0.9681169719246988,\n",
       "  0.5017543859649123)]"
      ]
     },
     "execution_count": 161,
     "metadata": {},
     "output_type": "execute_result"
    }
   ],
   "source": [
    "vi_one_hot_encoding"
   ]
  },
  {
   "cell_type": "code",
   "execution_count": 203,
   "id": "5dc44d64",
   "metadata": {},
   "outputs": [
    {
     "name": "stderr",
     "output_type": "stream",
     "text": [
      "C:\\Users\\ajayc\\anaconda3\\envs\\thesis\\lib\\site-packages\\sklearn\\base.py:450: UserWarning: X does not have valid feature names, but LocalOutlierFactor was fitted with feature names\n",
      "  warnings.warn(\n"
     ]
    },
    {
     "name": "stdout",
     "output_type": "stream",
     "text": [
      "[LibSVM]"
     ]
    },
    {
     "name": "stderr",
     "output_type": "stream",
     "text": [
      "C:\\Users\\ajayc\\anaconda3\\envs\\thesis\\lib\\site-packages\\sklearn\\ensemble\\_gb.py:494: DataConversionWarning: A column-vector y was passed when a 1d array was expected. Please change the shape of y to (n_samples, ), for example using ravel().\n",
      "  y = column_or_1d(y, warn=True)\n",
      "C:\\Users\\ajayc\\AppData\\Local\\Temp/ipykernel_2164/1119129790.py:3: DataConversionWarning: A column-vector y was passed when a 1d array was expected. Please change the shape of y to (n_samples,), for example using ravel().\n",
      "  clf.fit(train_data, train_label)\n"
     ]
    }
   ],
   "source": [
    "isof = isolation_forest(data_vc, label_vc,data_vc_test, label_vc_test, 1000)\n",
    "lof = local_outlier_factor(data_vc, label_vc,data_vc_test, label_vc_test, 3)\n",
    "ocsvm = one_class_svm(data_vc, label_vc,data_vc_test, label_vc_test, 'linear')\n",
    "gb = gradient_boosting(data_vc, label_vc,data_vc_test, label_vc_test, 400)\n",
    "rf = random_forest(data_vc, label_vc, data_vc_test, label_vc_test, 200)"
   ]
  },
  {
   "cell_type": "code",
   "execution_count": 204,
   "id": "c5ab8ced",
   "metadata": {},
   "outputs": [],
   "source": [
    "vc_one_hot_encoding = [isof, lof, ocsvm, gb, rf]"
   ]
  },
  {
   "cell_type": "code",
   "execution_count": 205,
   "id": "d1a4f74c",
   "metadata": {},
   "outputs": [
    {
     "data": {
      "text/plain": [
       "[(1.0, 0.7885482808752812, 0.8817746653049597, 0.5),\n",
       " (0.735171870492404,\n",
       "  0.7107372292704748,\n",
       "  0.722096371412523,\n",
       "  0.5321382298574971),\n",
       " (0.5197839800223155,\n",
       "  0.5113013656075649,\n",
       "  0.4670102051240022,\n",
       "  0.5196916637986511),\n",
       " (0.985384090513331,\n",
       "  0.9843185009381562,\n",
       "  0.9845308749265943,\n",
       "  0.9636290458211629),\n",
       " (0.9712994543220382,\n",
       "  0.9657914683698448,\n",
       "  0.9669299381272497,\n",
       "  0.9191963150769994)]"
      ]
     },
     "execution_count": 205,
     "metadata": {},
     "output_type": "execute_result"
    }
   ],
   "source": [
    "vc_one_hot_encoding"
   ]
  },
  {
   "cell_type": "code",
   "execution_count": 13,
   "id": "5a666e1a",
   "metadata": {},
   "outputs": [
    {
     "name": "stderr",
     "output_type": "stream",
     "text": [
      "C:\\Users\\ajayc\\anaconda3\\envs\\thesis\\lib\\site-packages\\sklearn\\base.py:450: UserWarning: X does not have valid feature names, but LocalOutlierFactor was fitted with feature names\n",
      "  warnings.warn(\n"
     ]
    },
    {
     "name": "stdout",
     "output_type": "stream",
     "text": [
      "[LibSVM]"
     ]
    },
    {
     "name": "stderr",
     "output_type": "stream",
     "text": [
      "C:\\Users\\ajayc\\anaconda3\\envs\\thesis\\lib\\site-packages\\sklearn\\ensemble\\_gb.py:494: DataConversionWarning: A column-vector y was passed when a 1d array was expected. Please change the shape of y to (n_samples, ), for example using ravel().\n",
      "  y = column_or_1d(y, warn=True)\n",
      "C:\\Users\\ajayc\\AppData\\Local\\Temp/ipykernel_940/1119129790.py:3: DataConversionWarning: A column-vector y was passed when a 1d array was expected. Please change the shape of y to (n_samples,), for example using ravel().\n",
      "  clf.fit(train_data, train_label)\n"
     ]
    }
   ],
   "source": [
    "isof = isolation_forest(data_ic, label_ic,data_ic_test, label_ic_test, 1000)\n",
    "lof = local_outlier_factor(data_ic, label_ic,data_ic_test, label_ic_test, 3)\n",
    "ocsvm = one_class_svm(data_ic, label_ic,data_ic_test, label_ic_test, 'linear')\n",
    "gb = gradient_boosting(data_ic, label_ic,data_ic_test, label_ic_test, 400)\n",
    "rf = random_forest(data_ic, label_ic, data_ic_test, label_ic_test, 200)"
   ]
  },
  {
   "cell_type": "code",
   "execution_count": 14,
   "id": "e8e08e53",
   "metadata": {},
   "outputs": [],
   "source": [
    "ic_one_hot_encoding = [isof, lof, ocsvm, gb, rf]"
   ]
  },
  {
   "cell_type": "code",
   "execution_count": 15,
   "id": "42592152",
   "metadata": {},
   "outputs": [
    {
     "data": {
      "text/plain": [
       "[(1.0, 0.8884498109525552, 0.9409302866295516, 0.5),\n",
       " (1.0, 0.8884498109525552, 0.9409302866295516, 0.5),\n",
       " (0.5072508907936114,\n",
       "  0.504329796316624,\n",
       "  0.4160961438634655,\n",
       "  0.5072649912307322),\n",
       " (0.9993214247446774,\n",
       "  0.8885961702646664,\n",
       "  0.9405362298889576,\n",
       "  0.5013252906321305),\n",
       " (0.9999237696372455,\n",
       "  0.8884498109525552,\n",
       "  0.9408828773414721,\n",
       "  0.50009560944865)]"
      ]
     },
     "execution_count": 15,
     "metadata": {},
     "output_type": "execute_result"
    }
   ],
   "source": [
    "ic_one_hot_encoding"
   ]
  },
  {
   "cell_type": "markdown",
   "id": "87602004",
   "metadata": {},
   "source": [
    "**GEL Encoding**"
   ]
  },
  {
   "cell_type": "code",
   "execution_count": 206,
   "id": "10f00b2c",
   "metadata": {},
   "outputs": [],
   "source": [
    "data_vc = load_data('../../data/vehicle_claims/train_gel.csv')\n",
    "data_vi = load_data('../../data/vehicle_insurance/train_gel.csv')\n",
    "data_ci = load_data('../../data/car_insurance/train_gel.csv')\n",
    "data_ic = load_data('../../data/insurance_claim_kaggle/train_gel.csv')"
   ]
  },
  {
   "cell_type": "code",
   "execution_count": 207,
   "id": "f5b7c6a4",
   "metadata": {},
   "outputs": [],
   "source": [
    "data_ci_test = load_data('../../data/car_insurance/test_gel.csv')\n",
    "data_vi_test = load_data('../../data/vehicle_insurance/test_gel.csv')\n",
    "data_vc_test = load_data('../../data/vehicle_claims/test_gel.csv')\n",
    "data_ic_test = load_data('../../data/insurance_claim_kaggle/test_gel.csv')"
   ]
  },
  {
   "cell_type": "code",
   "execution_count": 208,
   "id": "be77a973",
   "metadata": {},
   "outputs": [],
   "source": [
    "label_vc = load_data('../../data/vehicle_claims/train_gel_Y.csv')\n",
    "label_vi = load_data('../../data/vehicle_insurance/train_gel_Y.csv')\n",
    "label_ci = load_data('../../data/car_insurance/train_gel_Y.csv')\n",
    "label_ic = load_data('../../data/insurance_claim_kaggle/train_gel_Y.csv')"
   ]
  },
  {
   "cell_type": "code",
   "execution_count": 209,
   "id": "813c906c",
   "metadata": {},
   "outputs": [],
   "source": [
    "label_vc_test = load_data('../../data/vehicle_claims/test_gel_Y.csv')\n",
    "label_vi_test = load_data('../../data/vehicle_insurance/test_gel_Y.csv')\n",
    "label_ci_test = load_data('../../data/car_insurance/test_gel_Y.csv')\n",
    "label_ic_test = load_data('../../data/insurance_claim_kaggle/test_gel_Y.csv')"
   ]
  },
  {
   "cell_type": "code",
   "execution_count": 167,
   "id": "77215640",
   "metadata": {},
   "outputs": [
    {
     "name": "stderr",
     "output_type": "stream",
     "text": [
      "C:\\Users\\ajayc\\anaconda3\\envs\\thesis\\lib\\site-packages\\sklearn\\base.py:450: UserWarning: X does not have valid feature names, but LocalOutlierFactor was fitted with feature names\n",
      "  warnings.warn(\n",
      "C:\\Users\\ajayc\\anaconda3\\envs\\thesis\\lib\\site-packages\\sklearn\\ensemble\\_gb.py:494: DataConversionWarning: A column-vector y was passed when a 1d array was expected. Please change the shape of y to (n_samples, ), for example using ravel().\n",
      "  y = column_or_1d(y, warn=True)\n"
     ]
    },
    {
     "name": "stdout",
     "output_type": "stream",
     "text": [
      "[LibSVM]"
     ]
    },
    {
     "name": "stderr",
     "output_type": "stream",
     "text": [
      "C:\\Users\\ajayc\\AppData\\Local\\Temp/ipykernel_2164/1119129790.py:3: DataConversionWarning: A column-vector y was passed when a 1d array was expected. Please change the shape of y to (n_samples,), for example using ravel().\n",
      "  clf.fit(train_data, train_label)\n"
     ]
    }
   ],
   "source": [
    "isof = isolation_forest(data_ci, label_ci, data_ci_test, label_ci_test, 1000)\n",
    "lof = local_outlier_factor(data_ci, label_ci, data_ci_test, label_ci_test, 2)\n",
    "ocsvm = one_class_svm(data_ci, label_ci, data_ci_test, label_ci_test, 'linear')\n",
    "gb = gradient_boosting(data_ci, label_ci, data_ci_test, label_ci_test, 400)\n",
    "rf = random_forest(data_ci, label_ci, data_ci_test, label_ci_test, 200)"
   ]
  },
  {
   "cell_type": "code",
   "execution_count": 168,
   "id": "baeb0066",
   "metadata": {},
   "outputs": [],
   "source": [
    "ci_gel_encoding = [isof, lof, ocsvm, gb, rf]"
   ]
  },
  {
   "cell_type": "code",
   "execution_count": 169,
   "id": "23dc4494",
   "metadata": {},
   "outputs": [
    {
     "data": {
      "text/plain": [
       "[(0.7418674242424242,\n",
       "  0.6433333333333333,\n",
       "  0.6862928391909223,\n",
       "  0.4664772727272727),\n",
       " (0.8403636363636363, 0.68, 0.7480893300248139, 0.47954545454545455),\n",
       " (0.43100000000000005, 0.46, 0.4291599020125847, 0.42500000000000004),\n",
       " (0.7863636363636364, 0.7, 0.7347966252829412, 0.5409090909090909),\n",
       " (0.9294772727272729, 0.73, 0.8094178278297385, 0.5215909090909091)]"
      ]
     },
     "execution_count": 169,
     "metadata": {},
     "output_type": "execute_result"
    }
   ],
   "source": [
    "ci_gel_encoding"
   ]
  },
  {
   "cell_type": "code",
   "execution_count": 170,
   "id": "3e44f85c",
   "metadata": {},
   "outputs": [
    {
     "name": "stderr",
     "output_type": "stream",
     "text": [
      "C:\\Users\\ajayc\\anaconda3\\envs\\thesis\\lib\\site-packages\\sklearn\\base.py:450: UserWarning: X does not have valid feature names, but LocalOutlierFactor was fitted with feature names\n",
      "  warnings.warn(\n"
     ]
    },
    {
     "name": "stdout",
     "output_type": "stream",
     "text": [
      "[LibSVM]"
     ]
    },
    {
     "name": "stderr",
     "output_type": "stream",
     "text": [
      "C:\\Users\\ajayc\\anaconda3\\envs\\thesis\\lib\\site-packages\\sklearn\\ensemble\\_gb.py:494: DataConversionWarning: A column-vector y was passed when a 1d array was expected. Please change the shape of y to (n_samples, ), for example using ravel().\n",
      "  y = column_or_1d(y, warn=True)\n",
      "C:\\Users\\ajayc\\AppData\\Local\\Temp/ipykernel_2164/1119129790.py:3: DataConversionWarning: A column-vector y was passed when a 1d array was expected. Please change the shape of y to (n_samples,), for example using ravel().\n",
      "  clf.fit(train_data, train_label)\n"
     ]
    }
   ],
   "source": [
    "isof = isolation_forest(data_vi, label_vi,data_vi_test, label_vi_test, 1000)\n",
    "lof = local_outlier_factor(data_vi, label_vi,data_vi_test, label_vi_test, 3)\n",
    "ocsvm = one_class_svm(data_vi, label_vi,data_vi_test, label_vi_test, 'linear')\n",
    "gb = gradient_boosting(data_vi, label_vi,data_vi_test, label_vi_test, 400)\n",
    "rf = random_forest(data_vi, label_vi, data_vi_test, label_vi_test, 200)"
   ]
  },
  {
   "cell_type": "code",
   "execution_count": 171,
   "id": "d0e2c03a",
   "metadata": {},
   "outputs": [],
   "source": [
    "vi_gel_encoding = [isof, lof, ocsvm, gb, rf]"
   ]
  },
  {
   "cell_type": "code",
   "execution_count": 172,
   "id": "28fcf39b",
   "metadata": {},
   "outputs": [
    {
     "data": {
      "text/plain": [
       "[(0.8537291167676179,\n",
       "  0.869433635970601,\n",
       "  0.8613712348224821,\n",
       "  0.5075158525200355),\n",
       " (0.989364002555758,\n",
       "  0.933852140077821,\n",
       "  0.9606298987124169,\n",
       "  0.5008596127499121),\n",
       " (0.5229450930157767,\n",
       "  0.5045395590142672,\n",
       "  0.38677509518644176,\n",
       "  0.522908861649632),\n",
       " (0.9960145654495018,\n",
       "  0.937094682230869,\n",
       "  0.9654492902529932,\n",
       "  0.5025873252585507),\n",
       " (1.0, 0.9383916990920882, 0.9682167949146872, 0.5)]"
      ]
     },
     "execution_count": 172,
     "metadata": {},
     "output_type": "execute_result"
    }
   ],
   "source": [
    "vi_gel_encoding"
   ]
  },
  {
   "cell_type": "code",
   "execution_count": 210,
   "id": "d59a95fd",
   "metadata": {},
   "outputs": [
    {
     "name": "stderr",
     "output_type": "stream",
     "text": [
      "C:\\Users\\ajayc\\anaconda3\\envs\\thesis\\lib\\site-packages\\sklearn\\base.py:450: UserWarning: X does not have valid feature names, but LocalOutlierFactor was fitted with feature names\n",
      "  warnings.warn(\n"
     ]
    },
    {
     "name": "stdout",
     "output_type": "stream",
     "text": [
      "[LibSVM]"
     ]
    },
    {
     "name": "stderr",
     "output_type": "stream",
     "text": [
      "C:\\Users\\ajayc\\anaconda3\\envs\\thesis\\lib\\site-packages\\sklearn\\ensemble\\_gb.py:494: DataConversionWarning: A column-vector y was passed when a 1d array was expected. Please change the shape of y to (n_samples, ), for example using ravel().\n",
      "  y = column_or_1d(y, warn=True)\n",
      "C:\\Users\\ajayc\\AppData\\Local\\Temp/ipykernel_2164/1119129790.py:3: DataConversionWarning: A column-vector y was passed when a 1d array was expected. Please change the shape of y to (n_samples,), for example using ravel().\n",
      "  clf.fit(train_data, train_label)\n"
     ]
    }
   ],
   "source": [
    "isof = isolation_forest(data_vc, label_vc,data_vc_test, label_vc_test, 1000)\n",
    "lof = local_outlier_factor(data_vc, label_vc,data_vc_test, label_vc_test, 3)\n",
    "ocsvm = one_class_svm(data_vc, label_vc,data_vc_test, label_vc_test, 'linear')\n",
    "gb = gradient_boosting(data_vc, label_vc,data_vc_test, label_vc_test, 400)\n",
    "rf = random_forest(data_vc, label_vc, data_vc_test, label_vc_test, 200)"
   ]
  },
  {
   "cell_type": "code",
   "execution_count": 211,
   "id": "fc441e76",
   "metadata": {},
   "outputs": [],
   "source": [
    "vc_gel_encoding = [isof, lof, ocsvm, gb, rf]"
   ]
  },
  {
   "cell_type": "code",
   "execution_count": 212,
   "id": "b45cae15",
   "metadata": {},
   "outputs": [
    {
     "data": {
      "text/plain": [
       "[(0.9470496608338274,\n",
       "  0.7902133528834325,\n",
       "  0.8544792728948711,\n",
       "  0.5331388611018205),\n",
       " (0.7320470462837501,\n",
       "  0.7090473054413062,\n",
       "  0.719779360972978,\n",
       "  0.5314322465876943),\n",
       " (0.5197839800223155,\n",
       "  0.5113013656075649,\n",
       "  0.4670102051240022,\n",
       "  0.5196916637986511),\n",
       " (0.9290629884928705,\n",
       "  0.8526162754575841,\n",
       "  0.8774181597808889,\n",
       "  0.6728484428754168),\n",
       " (0.9524308173144002,\n",
       "  0.9367148377797383,\n",
       "  0.9404917789843109,\n",
       "  0.8563119695787795)]"
      ]
     },
     "execution_count": 212,
     "metadata": {},
     "output_type": "execute_result"
    }
   ],
   "source": [
    "vc_gel_encoding"
   ]
  },
  {
   "cell_type": "code",
   "execution_count": 173,
   "id": "f9be6bf9",
   "metadata": {},
   "outputs": [
    {
     "name": "stderr",
     "output_type": "stream",
     "text": [
      "C:\\Users\\ajayc\\anaconda3\\envs\\thesis\\lib\\site-packages\\sklearn\\base.py:450: UserWarning: X does not have valid feature names, but LocalOutlierFactor was fitted with feature names\n",
      "  warnings.warn(\n"
     ]
    },
    {
     "name": "stdout",
     "output_type": "stream",
     "text": [
      "[LibSVM]"
     ]
    },
    {
     "name": "stderr",
     "output_type": "stream",
     "text": [
      "C:\\Users\\ajayc\\anaconda3\\envs\\thesis\\lib\\site-packages\\sklearn\\ensemble\\_gb.py:494: DataConversionWarning: A column-vector y was passed when a 1d array was expected. Please change the shape of y to (n_samples, ), for example using ravel().\n",
      "  y = column_or_1d(y, warn=True)\n",
      "C:\\Users\\ajayc\\AppData\\Local\\Temp/ipykernel_2164/1119129790.py:3: DataConversionWarning: A column-vector y was passed when a 1d array was expected. Please change the shape of y to (n_samples,), for example using ravel().\n",
      "  clf.fit(train_data, train_label)\n"
     ]
    }
   ],
   "source": [
    "isof = isolation_forest(data_ic, label_ic,data_ic_test, label_ic_test, 1000)\n",
    "lof = local_outlier_factor(data_ic, label_ic,data_ic_test, label_ic_test, 3)\n",
    "ocsvm = one_class_svm(data_ic, label_ic,data_ic_test, label_ic_test, 'linear')\n",
    "gb = gradient_boosting(data_ic, label_ic,data_ic_test, label_ic_test, 400)\n",
    "rf = random_forest(data_ic, label_ic, data_ic_test, label_ic_test, 200)"
   ]
  },
  {
   "cell_type": "code",
   "execution_count": 174,
   "id": "730b2b27",
   "metadata": {},
   "outputs": [],
   "source": [
    "ic_gel_encoding = [isof, lof, ocsvm, gb, rf]"
   ]
  },
  {
   "cell_type": "code",
   "execution_count": 175,
   "id": "820c71ea",
   "metadata": {},
   "outputs": [
    {
     "data": {
      "text/plain": [
       "[(0.8196468640535114,\n",
       "  0.8184168801073302,\n",
       "  0.8190299604328836,\n",
       "  0.5386043179507299),\n",
       " (0.9999237696372455,\n",
       "  0.8884498109525552,\n",
       "  0.9408828773414721,\n",
       "  0.50009560944865),\n",
       " (0.5071145833648478,\n",
       "  0.5042566166605683,\n",
       "  0.4160118670030334,\n",
       "  0.5071281978822415),\n",
       " (0.9988280322700596,\n",
       "  0.8883278448591292,\n",
       "  0.9401816749648784,\n",
       "  0.5010786735507311),\n",
       " (0.9995429780587658,\n",
       "  0.8884498109525552,\n",
       "  0.9406464700995993,\n",
       "  0.5005736566918995)]"
      ]
     },
     "execution_count": 175,
     "metadata": {},
     "output_type": "execute_result"
    }
   ],
   "source": [
    "ic_gel_encoding"
   ]
  },
  {
   "cell_type": "markdown",
   "id": "de205025",
   "metadata": {},
   "source": [
    "**Numerical features**"
   ]
  },
  {
   "cell_type": "code",
   "execution_count": 213,
   "id": "8d6c5475",
   "metadata": {},
   "outputs": [],
   "source": [
    "data_vc = load_data('../../data/vehicle_claims/train.csv')\n",
    "data_vi = load_data('../../data/vehicle_insurance/train.csv')\n",
    "data_ci = load_data('../../data/car_insurance/train.csv')\n",
    "data_ic = load_data('../../data/insurance_claim_kaggle/train.csv')"
   ]
  },
  {
   "cell_type": "code",
   "execution_count": 214,
   "id": "1a562fdd",
   "metadata": {},
   "outputs": [],
   "source": [
    "data_ci = remove_cols(data_ci, ci_categorical_cols)\n",
    "data_vi = remove_cols(data_vi, vi_categorical_cols)\n",
    "data_vc = remove_cols(data_vc, vc_categorical_cols)\n",
    "data_ic = remove_cols(data_ic, ic_categorical_cols)"
   ]
  },
  {
   "cell_type": "code",
   "execution_count": 215,
   "id": "5c16d463",
   "metadata": {},
   "outputs": [],
   "source": [
    "data_ci_test = load_data('../../data/car_insurance/test.csv')\n",
    "data_vi_test = load_data('../../data/vehicle_insurance/test.csv')\n",
    "data_vc_test = load_data('../../data/vehicle_claims/test.csv')\n",
    "data_ic_test = load_data('../../data/insurance_claim_kaggle/test.csv')"
   ]
  },
  {
   "cell_type": "code",
   "execution_count": 216,
   "id": "262a5582",
   "metadata": {},
   "outputs": [],
   "source": [
    "data_ci_test = remove_cols(data_ci_test, ci_categorical_cols)\n",
    "data_vi_test = remove_cols(data_vi_test, vi_categorical_cols)\n",
    "data_vc_test = remove_cols(data_vc_test, vc_categorical_cols)\n",
    "data_ic_test = remove_cols(data_ic_test, ic_categorical_cols)"
   ]
  },
  {
   "cell_type": "code",
   "execution_count": 217,
   "id": "fb386a8a",
   "metadata": {},
   "outputs": [],
   "source": [
    "label_vc = load_data('../../data/vehicle_claims/train_Y.csv')\n",
    "label_vi = load_data('../../data/vehicle_insurance/train_Y.csv')\n",
    "label_ci = load_data('../../data/car_insurance/train_Y.csv')\n",
    "label_ic = load_data('../../data/insurance_claim_kaggle/train_Y.csv')"
   ]
  },
  {
   "cell_type": "code",
   "execution_count": 218,
   "id": "376b9d04",
   "metadata": {},
   "outputs": [],
   "source": [
    "label_vc_test = load_data('../../data/vehicle_claims/test_Y.csv')\n",
    "label_vi_test = load_data('../../data/vehicle_insurance/test_Y.csv')\n",
    "label_ci_test = load_data('../../data/car_insurance/test_Y.csv')\n",
    "label_ic_test = load_data('../../data/insurance_claim_kaggle/test_Y.csv')"
   ]
  },
  {
   "cell_type": "code",
   "execution_count": null,
   "id": "4abb83cb",
   "metadata": {},
   "outputs": [],
   "source": []
  },
  {
   "cell_type": "code",
   "execution_count": 183,
   "id": "cc3d7c07",
   "metadata": {},
   "outputs": [
    {
     "name": "stderr",
     "output_type": "stream",
     "text": [
      "C:\\Users\\ajayc\\anaconda3\\envs\\thesis\\lib\\site-packages\\sklearn\\base.py:450: UserWarning: X does not have valid feature names, but LocalOutlierFactor was fitted with feature names\n",
      "  warnings.warn(\n",
      "C:\\Users\\ajayc\\anaconda3\\envs\\thesis\\lib\\site-packages\\sklearn\\ensemble\\_gb.py:494: DataConversionWarning: A column-vector y was passed when a 1d array was expected. Please change the shape of y to (n_samples, ), for example using ravel().\n",
      "  y = column_or_1d(y, warn=True)\n",
      "C:\\Users\\ajayc\\AppData\\Local\\Temp/ipykernel_2164/1119129790.py:3: DataConversionWarning: A column-vector y was passed when a 1d array was expected. Please change the shape of y to (n_samples,), for example using ravel().\n",
      "  clf.fit(train_data, train_label)\n"
     ]
    },
    {
     "name": "stdout",
     "output_type": "stream",
     "text": [
      "[LibSVM]"
     ]
    }
   ],
   "source": [
    "isof = isolation_forest(data_ci, label_ci, data_ci_test, label_ci_test, 1000)\n",
    "lof = local_outlier_factor(data_ci, label_ci, data_ci_test, label_ci_test, 2)\n",
    "ocsvm = one_class_svm(data_ci, label_ci, data_ci_test, label_ci_test, 'linear')\n",
    "gb = gradient_boosting(data_ci, label_ci, data_ci_test, label_ci_test, 400)\n",
    "rf = random_forest(data_ci, label_ci, data_ci_test, label_ci_test, 200)"
   ]
  },
  {
   "cell_type": "code",
   "execution_count": 184,
   "id": "afa3a77f",
   "metadata": {},
   "outputs": [],
   "source": [
    "ci_numerical = [isof, lof, ocsvm, gb, rf]"
   ]
  },
  {
   "cell_type": "code",
   "execution_count": 185,
   "id": "390568ae",
   "metadata": {},
   "outputs": [
    {
     "data": {
      "text/plain": [
       "[(0.4695757575757576,\n",
       "  0.4266666666666667,\n",
       "  0.3991666666666668,\n",
       "  0.45795454545454545),\n",
       " (0.8403636363636363, 0.68, 0.7480893300248139, 0.47954545454545455),\n",
       " (0.43100000000000005, 0.46, 0.4291599020125847, 0.42500000000000004),\n",
       " (0.8489583333333334,\n",
       "  0.6966666666666667,\n",
       "  0.7592592592592592,\n",
       "  0.5028409090909091),\n",
       " (0.970340909090909,\n",
       "  0.7299999999999999,\n",
       "  0.8294574528840664,\n",
       "  0.5056818181818181)]"
      ]
     },
     "execution_count": 185,
     "metadata": {},
     "output_type": "execute_result"
    }
   ],
   "source": [
    "ci_numerical"
   ]
  },
  {
   "cell_type": "code",
   "execution_count": 186,
   "id": "f88c8b8b",
   "metadata": {},
   "outputs": [
    {
     "name": "stderr",
     "output_type": "stream",
     "text": [
      "C:\\Users\\ajayc\\anaconda3\\envs\\thesis\\lib\\site-packages\\sklearn\\base.py:450: UserWarning: X does not have valid feature names, but LocalOutlierFactor was fitted with feature names\n",
      "  warnings.warn(\n"
     ]
    },
    {
     "name": "stdout",
     "output_type": "stream",
     "text": [
      "[LibSVM]"
     ]
    },
    {
     "name": "stderr",
     "output_type": "stream",
     "text": [
      "C:\\Users\\ajayc\\anaconda3\\envs\\thesis\\lib\\site-packages\\sklearn\\ensemble\\_gb.py:494: DataConversionWarning: A column-vector y was passed when a 1d array was expected. Please change the shape of y to (n_samples, ), for example using ravel().\n",
      "  y = column_or_1d(y, warn=True)\n",
      "C:\\Users\\ajayc\\AppData\\Local\\Temp/ipykernel_2164/1119129790.py:3: DataConversionWarning: A column-vector y was passed when a 1d array was expected. Please change the shape of y to (n_samples,), for example using ravel().\n",
      "  clf.fit(train_data, train_label)\n"
     ]
    }
   ],
   "source": [
    "isof = isolation_forest(data_vi, label_vi,data_vi_test, label_vi_test, 1000)\n",
    "lof = local_outlier_factor(data_vi, label_vi,data_vi_test, label_vi_test, 3)\n",
    "ocsvm = one_class_svm(data_vi, label_vi,data_vi_test, label_vi_test, 'linear')\n",
    "gb = gradient_boosting(data_vi, label_vi,data_vi_test, label_vi_test, 400)\n",
    "rf = random_forest(data_vi, label_vi, data_vi_test, label_vi_test, 200)"
   ]
  },
  {
   "cell_type": "code",
   "execution_count": 187,
   "id": "21984a6b",
   "metadata": {},
   "outputs": [],
   "source": [
    "vi_numerical = [isof, lof, ocsvm, gb, rf]"
   ]
  },
  {
   "cell_type": "code",
   "execution_count": 188,
   "id": "d42ad6e6",
   "metadata": {},
   "outputs": [
    {
     "data": {
      "text/plain": [
       "[(0.7643999570234774,\n",
       "  0.1805015131863381,\n",
       "  0.13146154789661912,\n",
       "  0.49942045854096195),\n",
       " (0.9794743743991807,\n",
       "  0.9293125810635539,\n",
       "  0.9535279428128297,\n",
       "  0.5000800203688212),\n",
       " (0.5229450930157767,\n",
       "  0.5045395590142672,\n",
       "  0.38677509518644176,\n",
       "  0.522908861649632),\n",
       " (0.999553518652473,\n",
       "  0.9381755296152183,\n",
       "  0.967892443557971,\n",
       "  0.4998848191660908),\n",
       " (0.9876553728434808,\n",
       "  0.9336359706009512,\n",
       "  0.9595508169730057,\n",
       "  0.504022842178009)]"
      ]
     },
     "execution_count": 188,
     "metadata": {},
     "output_type": "execute_result"
    }
   ],
   "source": [
    "vi_numerical"
   ]
  },
  {
   "cell_type": "code",
   "execution_count": 219,
   "id": "fb1a1774",
   "metadata": {},
   "outputs": [
    {
     "name": "stderr",
     "output_type": "stream",
     "text": [
      "C:\\Users\\ajayc\\anaconda3\\envs\\thesis\\lib\\site-packages\\sklearn\\base.py:450: UserWarning: X does not have valid feature names, but LocalOutlierFactor was fitted with feature names\n",
      "  warnings.warn(\n"
     ]
    },
    {
     "name": "stdout",
     "output_type": "stream",
     "text": [
      "[LibSVM]"
     ]
    },
    {
     "name": "stderr",
     "output_type": "stream",
     "text": [
      "C:\\Users\\ajayc\\anaconda3\\envs\\thesis\\lib\\site-packages\\sklearn\\ensemble\\_gb.py:494: DataConversionWarning: A column-vector y was passed when a 1d array was expected. Please change the shape of y to (n_samples, ), for example using ravel().\n",
      "  y = column_or_1d(y, warn=True)\n",
      "C:\\Users\\ajayc\\AppData\\Local\\Temp/ipykernel_2164/1119129790.py:3: DataConversionWarning: A column-vector y was passed when a 1d array was expected. Please change the shape of y to (n_samples,), for example using ravel().\n",
      "  clf.fit(train_data, train_label)\n"
     ]
    }
   ],
   "source": [
    "isof = isolation_forest(data_vc, label_vc,data_vc_test, label_vc_test, 1000)\n",
    "lof = local_outlier_factor(data_vc, label_vc,data_vc_test, label_vc_test, 3)\n",
    "ocsvm = one_class_svm(data_vc, label_vc,data_vc_test, label_vc_test, 'linear')\n",
    "gb = gradient_boosting(data_vc, label_vc,data_vc_test, label_vc_test, 400)\n",
    "rf = random_forest(data_vc, label_vc, data_vc_test, label_vc_test, 200)"
   ]
  },
  {
   "cell_type": "code",
   "execution_count": 220,
   "id": "e1ea39c5",
   "metadata": {},
   "outputs": [],
   "source": [
    "vc_numerical = [isof, lof, ocsvm, gb, rf]"
   ]
  },
  {
   "cell_type": "code",
   "execution_count": 221,
   "id": "ac52763a",
   "metadata": {},
   "outputs": [
    {
     "data": {
      "text/plain": [
       "[(0.9210959547648231,\n",
       "  0.8071498689066441,\n",
       "  0.8503386917774254,\n",
       "  0.5835946954734148),\n",
       " (0.7314918834548403,\n",
       "  0.7087242317680829,\n",
       "  0.7193548331743467,\n",
       "  0.5312488965401406),\n",
       " (0.5197839800223155,\n",
       "  0.5113013656075649,\n",
       "  0.4670102051240022,\n",
       "  0.5196916637986511),\n",
       " (0.945708679769342,\n",
       "  0.8559588453843956,\n",
       "  0.8845010407397714,\n",
       "  0.6660439757680261),\n",
       " (0.9094450314562023,\n",
       "  0.8718888626564112,\n",
       "  0.8839140931597926,\n",
       "  0.737924104778631)]"
      ]
     },
     "execution_count": 221,
     "metadata": {},
     "output_type": "execute_result"
    }
   ],
   "source": [
    "vc_numerical"
   ]
  },
  {
   "cell_type": "code",
   "execution_count": 189,
   "id": "72f60a6b",
   "metadata": {},
   "outputs": [
    {
     "name": "stderr",
     "output_type": "stream",
     "text": [
      "C:\\Users\\ajayc\\anaconda3\\envs\\thesis\\lib\\site-packages\\sklearn\\base.py:450: UserWarning: X does not have valid feature names, but LocalOutlierFactor was fitted with feature names\n",
      "  warnings.warn(\n"
     ]
    },
    {
     "name": "stdout",
     "output_type": "stream",
     "text": [
      "[LibSVM]"
     ]
    },
    {
     "name": "stderr",
     "output_type": "stream",
     "text": [
      "C:\\Users\\ajayc\\anaconda3\\envs\\thesis\\lib\\site-packages\\sklearn\\ensemble\\_gb.py:494: DataConversionWarning: A column-vector y was passed when a 1d array was expected. Please change the shape of y to (n_samples, ), for example using ravel().\n",
      "  y = column_or_1d(y, warn=True)\n",
      "C:\\Users\\ajayc\\AppData\\Local\\Temp/ipykernel_2164/1119129790.py:3: DataConversionWarning: A column-vector y was passed when a 1d array was expected. Please change the shape of y to (n_samples,), for example using ravel().\n",
      "  clf.fit(train_data, train_label)\n"
     ]
    }
   ],
   "source": [
    "isof = isolation_forest(data_ic, label_ic,data_ic_test, label_ic_test, 1000)\n",
    "lof = local_outlier_factor(data_ic, label_ic,data_ic_test, label_ic_test, 3)\n",
    "ocsvm = one_class_svm(data_ic, label_ic,data_ic_test, label_ic_test, 'linear')\n",
    "gb = gradient_boosting(data_ic, label_ic,data_ic_test, label_ic_test, 400)\n",
    "rf = random_forest(data_ic, label_ic, data_ic_test, label_ic_test, 200)"
   ]
  },
  {
   "cell_type": "code",
   "execution_count": 190,
   "id": "1adfcf81",
   "metadata": {},
   "outputs": [],
   "source": [
    "ic_numerical = [isof, lof, ocsvm, gb, rf]"
   ]
  },
  {
   "cell_type": "code",
   "execution_count": 191,
   "id": "f5aa6672",
   "metadata": {},
   "outputs": [
    {
     "data": {
      "text/plain": [
       "[(0.6538124254347899,\n",
       "  0.7146717872128583,\n",
       "  0.6747398503450756,\n",
       "  0.5225315972937309),\n",
       " (0.9988711027267394,\n",
       "  0.8875613398762535,\n",
       "  0.9398929587906114,\n",
       "  0.5000371463658345),\n",
       " (0.5121895718005051,\n",
       "  0.5051561055401464,\n",
       "  0.4174329722673293,\n",
       "  0.5121966697939787),\n",
       " (0.9989515080980292,\n",
       "  0.8877035772704645,\n",
       "  0.9399689955283843,\n",
       "  0.500394651533527),\n",
       " (0.9998487972983052,\n",
       "  0.8879169333617808,\n",
       "  0.9405644604133684,\n",
       "  0.49995995514976777)]"
      ]
     },
     "execution_count": 191,
     "metadata": {},
     "output_type": "execute_result"
    }
   ],
   "source": [
    "ic_numerical"
   ]
  },
  {
   "cell_type": "markdown",
   "id": "242d1748",
   "metadata": {},
   "source": [
    "**Explore data**"
   ]
  },
  {
   "cell_type": "code",
   "execution_count": null,
   "id": "7c466abc",
   "metadata": {},
   "outputs": [],
   "source": []
  }
 ],
 "metadata": {
  "kernelspec": {
   "display_name": "Python 3 (ipykernel)",
   "language": "python",
   "name": "python3"
  },
  "language_info": {
   "codemirror_mode": {
    "name": "ipython",
    "version": 3
   },
   "file_extension": ".py",
   "mimetype": "text/x-python",
   "name": "python",
   "nbconvert_exporter": "python",
   "pygments_lexer": "ipython3",
   "version": "3.8.12"
  }
 },
 "nbformat": 4,
 "nbformat_minor": 5
}
